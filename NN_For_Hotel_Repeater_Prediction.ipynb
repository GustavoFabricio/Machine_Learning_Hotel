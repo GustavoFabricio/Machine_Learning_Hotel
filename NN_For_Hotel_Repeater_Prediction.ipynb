{
 "cells": [
  {
   "cell_type": "code",
   "execution_count": 19,
   "metadata": {
    "colab": {},
    "colab_type": "code",
    "id": "4jwjE-i9p0Je"
   },
   "outputs": [],
   "source": [
    "import warnings\n",
    "warnings.filterwarnings('ignore')\n",
    "\n",
    "import pandas as pd\n",
    "\n",
    "from sklearn.neural_network import MLPClassifier\n",
    "from sklearn.model_selection import train_test_split\n",
    "from sklearn.model_selection import KFold\n",
    "from sklearn.model_selection import GridSearchCV\n",
    "\n",
    "import seaborn as sns\n",
    "\n",
    "import numpy as np\n",
    "import matplotlib.pyplot as plt\n"
   ]
  },
  {
   "cell_type": "markdown",
   "metadata": {
    "colab_type": "text",
    "id": "vNgmxxhap0Jn"
   },
   "source": [
    "## Read Data"
   ]
  },
  {
   "cell_type": "code",
   "execution_count": 20,
   "metadata": {
    "colab": {
     "base_uri": "https://localhost:8080/",
     "height": 343
    },
    "colab_type": "code",
    "id": "nSph1cfdp0Jo",
    "outputId": "3ae574df-4dcb-4055-e8c5-03e961de3a8a"
   },
   "outputs": [
    {
     "data": {
      "text/html": [
       "<div>\n",
       "<style scoped>\n",
       "    .dataframe tbody tr th:only-of-type {\n",
       "        vertical-align: middle;\n",
       "    }\n",
       "\n",
       "    .dataframe tbody tr th {\n",
       "        vertical-align: top;\n",
       "    }\n",
       "\n",
       "    .dataframe thead th {\n",
       "        text-align: right;\n",
       "    }\n",
       "</style>\n",
       "<table border=\"1\" class=\"dataframe\">\n",
       "  <thead>\n",
       "    <tr style=\"text-align: right;\">\n",
       "      <th></th>\n",
       "      <th>Guest_ID</th>\n",
       "      <th>Gender</th>\n",
       "      <th>Frequent_Traveler</th>\n",
       "      <th>Age</th>\n",
       "      <th>Type</th>\n",
       "      <th>Flight_Class</th>\n",
       "      <th>Points</th>\n",
       "      <th>Room</th>\n",
       "      <th>Check-in/Check-out</th>\n",
       "      <th>F&amp;B</th>\n",
       "      <th>...</th>\n",
       "      <th>Spa</th>\n",
       "      <th>Staff</th>\n",
       "      <th>Pool</th>\n",
       "      <th>Baggage_Handling</th>\n",
       "      <th>Reception</th>\n",
       "      <th>Cleanliness</th>\n",
       "      <th>Online_Booking</th>\n",
       "      <th>Deposit_Kept</th>\n",
       "      <th>Time_Room_Service</th>\n",
       "      <th>Repeater</th>\n",
       "    </tr>\n",
       "  </thead>\n",
       "  <tbody>\n",
       "    <tr>\n",
       "      <th>0</th>\n",
       "      <td>19346</td>\n",
       "      <td>Male</td>\n",
       "      <td>1</td>\n",
       "      <td>30</td>\n",
       "      <td>Business travel</td>\n",
       "      <td>Eco</td>\n",
       "      <td>2695</td>\n",
       "      <td>3</td>\n",
       "      <td>5</td>\n",
       "      <td>5</td>\n",
       "      <td>...</td>\n",
       "      <td>4</td>\n",
       "      <td>2</td>\n",
       "      <td>3</td>\n",
       "      <td>3</td>\n",
       "      <td>3</td>\n",
       "      <td>3</td>\n",
       "      <td>3</td>\n",
       "      <td>187</td>\n",
       "      <td>20.2</td>\n",
       "      <td>0</td>\n",
       "    </tr>\n",
       "    <tr>\n",
       "      <th>1</th>\n",
       "      <td>21830</td>\n",
       "      <td>Male</td>\n",
       "      <td>1</td>\n",
       "      <td>57</td>\n",
       "      <td>Personal Travel</td>\n",
       "      <td>Eco</td>\n",
       "      <td>2057</td>\n",
       "      <td>2</td>\n",
       "      <td>1</td>\n",
       "      <td>2</td>\n",
       "      <td>...</td>\n",
       "      <td>3</td>\n",
       "      <td>2</td>\n",
       "      <td>5</td>\n",
       "      <td>3</td>\n",
       "      <td>4</td>\n",
       "      <td>3</td>\n",
       "      <td>3</td>\n",
       "      <td>0</td>\n",
       "      <td>1.2</td>\n",
       "      <td>0</td>\n",
       "    </tr>\n",
       "    <tr>\n",
       "      <th>2</th>\n",
       "      <td>17626</td>\n",
       "      <td>Female</td>\n",
       "      <td>1</td>\n",
       "      <td>16</td>\n",
       "      <td>Personal Travel</td>\n",
       "      <td>Eco</td>\n",
       "      <td>1478</td>\n",
       "      <td>2</td>\n",
       "      <td>2</td>\n",
       "      <td>2</td>\n",
       "      <td>...</td>\n",
       "      <td>4</td>\n",
       "      <td>4</td>\n",
       "      <td>4</td>\n",
       "      <td>4</td>\n",
       "      <td>3</td>\n",
       "      <td>4</td>\n",
       "      <td>5</td>\n",
       "      <td>0</td>\n",
       "      <td>0.0</td>\n",
       "      <td>1</td>\n",
       "    </tr>\n",
       "    <tr>\n",
       "      <th>3</th>\n",
       "      <td>17988</td>\n",
       "      <td>Female</td>\n",
       "      <td>1</td>\n",
       "      <td>48</td>\n",
       "      <td>Business travel</td>\n",
       "      <td>Business</td>\n",
       "      <td>2304</td>\n",
       "      <td>3</td>\n",
       "      <td>1</td>\n",
       "      <td>1</td>\n",
       "      <td>...</td>\n",
       "      <td>1</td>\n",
       "      <td>2</td>\n",
       "      <td>4</td>\n",
       "      <td>4</td>\n",
       "      <td>3</td>\n",
       "      <td>2</td>\n",
       "      <td>3</td>\n",
       "      <td>147</td>\n",
       "      <td>15.0</td>\n",
       "      <td>0</td>\n",
       "    </tr>\n",
       "    <tr>\n",
       "      <th>4</th>\n",
       "      <td>16703</td>\n",
       "      <td>Female</td>\n",
       "      <td>1</td>\n",
       "      <td>52</td>\n",
       "      <td>Business travel</td>\n",
       "      <td>Eco</td>\n",
       "      <td>73</td>\n",
       "      <td>3</td>\n",
       "      <td>3</td>\n",
       "      <td>3</td>\n",
       "      <td>...</td>\n",
       "      <td>3</td>\n",
       "      <td>3</td>\n",
       "      <td>3</td>\n",
       "      <td>3</td>\n",
       "      <td>4</td>\n",
       "      <td>3</td>\n",
       "      <td>3</td>\n",
       "      <td>6</td>\n",
       "      <td>1.0</td>\n",
       "      <td>1</td>\n",
       "    </tr>\n",
       "  </tbody>\n",
       "</table>\n",
       "<p>5 rows × 24 columns</p>\n",
       "</div>"
      ],
      "text/plain": [
       "   Guest_ID  Gender  Frequent_Traveler  Age             Type Flight_Class  \\\n",
       "0     19346    Male                  1   30  Business travel          Eco   \n",
       "1     21830    Male                  1   57  Personal Travel          Eco   \n",
       "2     17626  Female                  1   16  Personal Travel          Eco   \n",
       "3     17988  Female                  1   48  Business travel     Business   \n",
       "4     16703  Female                  1   52  Business travel          Eco   \n",
       "\n",
       "   Points  Room  Check-in/Check-out  F&B  ...  Spa  Staff  Pool  \\\n",
       "0    2695     3                   5    5  ...    4      2     3   \n",
       "1    2057     2                   1    2  ...    3      2     5   \n",
       "2    1478     2                   2    2  ...    4      4     4   \n",
       "3    2304     3                   1    1  ...    1      2     4   \n",
       "4      73     3                   3    3  ...    3      3     3   \n",
       "\n",
       "   Baggage_Handling  Reception  Cleanliness  Online_Booking  Deposit_Kept  \\\n",
       "0                 3          3            3               3           187   \n",
       "1                 3          4            3               3             0   \n",
       "2                 4          3            4               5             0   \n",
       "3                 4          3            2               3           147   \n",
       "4                 3          4            3               3             6   \n",
       "\n",
       "   Time_Room_Service  Repeater  \n",
       "0               20.2         0  \n",
       "1                1.2         0  \n",
       "2                0.0         1  \n",
       "3               15.0         0  \n",
       "4                1.0         1  \n",
       "\n",
       "[5 rows x 24 columns]"
      ]
     },
     "execution_count": 20,
     "metadata": {},
     "output_type": "execute_result"
    }
   ],
   "source": [
    "guest_test = pd.read_csv('https://raw.githubusercontent.com/GustavoFabricio/Machine_Learning_Hotel/master/test.csv')\n",
    "guest_train = pd.read_csv('https://raw.githubusercontent.com/GustavoFabricio/Machine_Learning_Hotel/master/train.csv')\n",
    "\n",
    "guest_train.head()"
   ]
  },
  {
   "cell_type": "code",
   "execution_count": 21,
   "metadata": {
    "colab": {
     "base_uri": "https://localhost:8080/",
     "height": 442
    },
    "colab_type": "code",
    "id": "bR4-FyFwp0Jw",
    "outputId": "e7e6acc1-e505-4dc1-e989-ba3f4789309c"
   },
   "outputs": [
    {
     "data": {
      "text/plain": [
       "Guest_ID                int64\n",
       "Gender                 object\n",
       "Frequent_Traveler       int64\n",
       "Age                     int64\n",
       "Type                   object\n",
       "Flight_Class           object\n",
       "Points                  int64\n",
       "Room                    int64\n",
       "Check-in/Check-out      int64\n",
       "F&B                     int64\n",
       "Location                int64\n",
       "Wifi                    int64\n",
       "Entertainment           int64\n",
       "Gym                     int64\n",
       "Spa                     int64\n",
       "Staff                   int64\n",
       "Pool                    int64\n",
       "Baggage_Handling        int64\n",
       "Reception               int64\n",
       "Cleanliness             int64\n",
       "Online_Booking          int64\n",
       "Deposit_Kept            int64\n",
       "Time_Room_Service     float64\n",
       "Repeater                int64\n",
       "dtype: object"
      ]
     },
     "execution_count": 21,
     "metadata": {},
     "output_type": "execute_result"
    }
   ],
   "source": [
    "guest_train.dtypes"
   ]
  },
  {
   "cell_type": "code",
   "execution_count": 22,
   "metadata": {
    "colab": {
     "base_uri": "https://localhost:8080/",
     "height": 34
    },
    "colab_type": "code",
    "id": "uC82kTL_p0J3",
    "outputId": "a911a6d2-e695-495c-89fc-cfce20ed7863"
   },
   "outputs": [
    {
     "data": {
      "text/plain": [
       "(9100, 24)"
      ]
     },
     "execution_count": 22,
     "metadata": {},
     "output_type": "execute_result"
    }
   ],
   "source": [
    "guest_train.shape"
   ]
  },
  {
   "cell_type": "markdown",
   "metadata": {
    "colab_type": "text",
    "id": "rXrAqTnIp0J9"
   },
   "source": [
    "## Overview\n"
   ]
  },
  {
   "cell_type": "code",
   "execution_count": 23,
   "metadata": {
    "colab": {},
    "colab_type": "code",
    "id": "Gvpd0eegp0J-"
   },
   "outputs": [],
   "source": [
    "def bar_charts_categorical(df, feature, target):\n",
    "    cont_tab = pd.crosstab(df[feature].astype('str'), df[target], margins = True)\n",
    "    categories = cont_tab.index[:-1]\n",
    "        \n",
    "    fig = plt.figure(figsize=(10, 5))\n",
    "    \n",
    "    plt.subplot(121)\n",
    "    p1 = plt.bar(categories, cont_tab.iloc[:-1, 0].values, 0.55, color=\"gray\")\n",
    "    p2 = plt.bar(categories, cont_tab.iloc[:-1, 1].values, 0.55, bottom=cont_tab.iloc[:-1, 0], color=\"yellowgreen\")\n",
    "    plt.legend((p2[0], p1[0]), ('$y_i=1$', '$y_i=0$'))\n",
    "    plt.title(\"Frequency bar chart\")\n",
    "    plt.xlabel(feature)\n",
    "    plt.ylabel(\"$Frequency$\")\n",
    "\n",
    "    # auxiliary data for 122\n",
    "    obs_pct = np.array([np.divide(cont_tab.iloc[:-1, 0].values, cont_tab.iloc[:-1, 2].values), \n",
    "                        np.divide(cont_tab.iloc[:-1, 1].values, cont_tab.iloc[:-1, 2].values)])\n",
    "      \n",
    "    plt.subplot(122)\n",
    "    p1 = plt.bar(categories, obs_pct[0], 0.55, color=\"gray\")\n",
    "    p2 = plt.bar(categories, obs_pct[1], 0.55, bottom=obs_pct[0], color=\"yellowgreen\")\n",
    "    plt.legend((p2[0], p1[0]), ('$y_i=1$', '$y_i=0$'))\n",
    "    plt.title(\"Proportion bar chart\")\n",
    "    plt.xlabel(feature)\n",
    "    plt.ylabel(\"$p$\")\n",
    "\n",
    "    plt.show()"
   ]
  },
  {
   "cell_type": "markdown",
   "metadata": {
    "colab_type": "text",
    "id": "sfBPrDihp0KE"
   },
   "source": [
    "#### Age"
   ]
  },
  {
   "cell_type": "code",
   "execution_count": 24,
   "metadata": {
    "colab": {
     "base_uri": "https://localhost:8080/",
     "height": 296
    },
    "colab_type": "code",
    "id": "rATfugKcp0KF",
    "outputId": "9a677a82-12b5-41ae-b437-60522fb7ce5e"
   },
   "outputs": [
    {
     "data": {
      "text/plain": [
       "<matplotlib.axes._subplots.AxesSubplot at 0x1b8bb490448>"
      ]
     },
     "execution_count": 24,
     "metadata": {},
     "output_type": "execute_result"
    },
    {
     "data": {
      "image/png": "[encoded data removed]",
      "text/plain": [
       "<Figure size 432x288 with 1 Axes>"
      ]
     },
     "metadata": {
      "needs_background": "light"
     },
     "output_type": "display_data"
    }
   ],
   "source": [
    "sns.boxplot(y = guest_train['Age'], x = guest_train['Repeater'])"
   ]
  },
  {
   "cell_type": "markdown",
   "metadata": {
    "colab_type": "text",
    "id": "z8SBqYOap0KM"
   },
   "source": [
    "#### Points"
   ]
  },
  {
   "cell_type": "code",
   "execution_count": 25,
   "metadata": {
    "colab": {
     "base_uri": "https://localhost:8080/",
     "height": 296
    },
    "colab_type": "code",
    "id": "vbo2wqS4p0KN",
    "outputId": "a9ca5188-348e-404d-8d23-3cda70ba2a04"
   },
   "outputs": [
    {
     "data": {
      "text/plain": [
       "<matplotlib.axes._subplots.AxesSubplot at 0x1b8baf73cc8>"
      ]
     },
     "execution_count": 25,
     "metadata": {},
     "output_type": "execute_result"
    },
    {
     "data": {
      "image/png": "[encoded data removed]",
      "text/plain": [
       "<Figure size 432x288 with 1 Axes>"
      ]
     },
     "metadata": {
      "needs_background": "light"
     },
     "output_type": "display_data"
    }
   ],
   "source": [
    "sns.boxplot(y = guest_train['Points'], x = guest_train['Repeater'])"
   ]
  },
  {
   "cell_type": "markdown",
   "metadata": {
    "colab_type": "text",
    "id": "9JeLhQ5Hp0KT"
   },
   "source": [
    "#### Deposit_Kept"
   ]
  },
  {
   "cell_type": "code",
   "execution_count": 26,
   "metadata": {
    "colab": {
     "base_uri": "https://localhost:8080/",
     "height": 296
    },
    "colab_type": "code",
    "id": "4DduOXxyp0KU",
    "outputId": "333f187a-3b53-4384-ba87-6bc676b131e2"
   },
   "outputs": [
    {
     "data": {
      "text/plain": [
       "<matplotlib.axes._subplots.AxesSubplot at 0x1b8bb432448>"
      ]
     },
     "execution_count": 26,
     "metadata": {},
     "output_type": "execute_result"
    },
    {
     "data": {
      "image/png": "[encoded data removed]",
      "text/plain": [
       "<Figure size 432x288 with 1 Axes>"
      ]
     },
     "metadata": {
      "needs_background": "light"
     },
     "output_type": "display_data"
    }
   ],
   "source": [
    "sns.boxplot(y = guest_train['Deposit_Kept'], x = guest_train['Repeater'])"
   ]
  },
  {
   "cell_type": "markdown",
   "metadata": {
    "colab_type": "text",
    "id": "_-4XJOibp0KZ"
   },
   "source": [
    "#### Time_Room_Service"
   ]
  },
  {
   "cell_type": "code",
   "execution_count": 27,
   "metadata": {
    "colab": {
     "base_uri": "https://localhost:8080/",
     "height": 296
    },
    "colab_type": "code",
    "id": "0lzp1ofOp0Kc",
    "outputId": "379e11ba-53f1-4711-834c-966476c7cec8"
   },
   "outputs": [
    {
     "data": {
      "text/plain": [
       "<matplotlib.axes._subplots.AxesSubplot at 0x1b8bae373c8>"
      ]
     },
     "execution_count": 27,
     "metadata": {},
     "output_type": "execute_result"
    },
    {
     "data": {
      "image/png": "[encoded data removed]",
      "text/plain": [
       "<Figure size 432x288 with 1 Axes>"
      ]
     },
     "metadata": {
      "needs_background": "light"
     },
     "output_type": "display_data"
    }
   ],
   "source": [
    "sns.boxplot(y = guest_train['Time_Room_Service'], x = guest_train['Repeater'])"
   ]
  },
  {
   "cell_type": "markdown",
   "metadata": {
    "colab_type": "text",
    "id": "5p1OkdYfp0Ke"
   },
   "source": [
    "#### Gender"
   ]
  },
  {
   "cell_type": "code",
   "execution_count": 28,
   "metadata": {
    "colab": {},
    "colab_type": "code",
    "id": "V-Lo-MG5p0Kf",
    "outputId": "2760032f-d647-496c-d993-d756a9d011dd"
   },
   "outputs": [
    {
     "data": {
      "image/png": "[encoded data removed]",
      "text/plain": [
       "<Figure size 720x360 with 2 Axes>"
      ]
     },
     "metadata": {
      "needs_background": "light"
     },
     "output_type": "display_data"
    }
   ],
   "source": [
    "bar_charts_categorical(guest_train, 'Gender', 'Repeater')"
   ]
  },
  {
   "cell_type": "code",
   "execution_count": 29,
   "metadata": {
    "colab": {
     "base_uri": "https://localhost:8080/",
     "height": 343
    },
    "colab_type": "code",
    "id": "MIo4QwC0p0Ki",
    "outputId": "af815991-ea1f-4600-ec3c-bded270f56f5"
   },
   "outputs": [
    {
     "data": {
      "text/html": [
       "<div>\n",
       "<style scoped>\n",
       "    .dataframe tbody tr th:only-of-type {\n",
       "        vertical-align: middle;\n",
       "    }\n",
       "\n",
       "    .dataframe tbody tr th {\n",
       "        vertical-align: top;\n",
       "    }\n",
       "\n",
       "    .dataframe thead th {\n",
       "        text-align: right;\n",
       "    }\n",
       "</style>\n",
       "<table border=\"1\" class=\"dataframe\">\n",
       "  <thead>\n",
       "    <tr style=\"text-align: right;\">\n",
       "      <th></th>\n",
       "      <th>Guest_ID</th>\n",
       "      <th>Frequent_Traveler</th>\n",
       "      <th>Age</th>\n",
       "      <th>Type</th>\n",
       "      <th>Flight_Class</th>\n",
       "      <th>Points</th>\n",
       "      <th>Room</th>\n",
       "      <th>Check-in/Check-out</th>\n",
       "      <th>F&amp;B</th>\n",
       "      <th>Location</th>\n",
       "      <th>...</th>\n",
       "      <th>Staff</th>\n",
       "      <th>Pool</th>\n",
       "      <th>Baggage_Handling</th>\n",
       "      <th>Reception</th>\n",
       "      <th>Cleanliness</th>\n",
       "      <th>Online_Booking</th>\n",
       "      <th>Deposit_Kept</th>\n",
       "      <th>Time_Room_Service</th>\n",
       "      <th>Repeater</th>\n",
       "      <th>Female</th>\n",
       "    </tr>\n",
       "  </thead>\n",
       "  <tbody>\n",
       "    <tr>\n",
       "      <th>0</th>\n",
       "      <td>19346</td>\n",
       "      <td>1</td>\n",
       "      <td>30</td>\n",
       "      <td>Business travel</td>\n",
       "      <td>Eco</td>\n",
       "      <td>2695</td>\n",
       "      <td>3</td>\n",
       "      <td>5</td>\n",
       "      <td>5</td>\n",
       "      <td>5</td>\n",
       "      <td>...</td>\n",
       "      <td>2</td>\n",
       "      <td>3</td>\n",
       "      <td>3</td>\n",
       "      <td>3</td>\n",
       "      <td>3</td>\n",
       "      <td>3</td>\n",
       "      <td>187</td>\n",
       "      <td>20.2</td>\n",
       "      <td>0</td>\n",
       "      <td>0</td>\n",
       "    </tr>\n",
       "    <tr>\n",
       "      <th>1</th>\n",
       "      <td>21830</td>\n",
       "      <td>1</td>\n",
       "      <td>57</td>\n",
       "      <td>Personal Travel</td>\n",
       "      <td>Eco</td>\n",
       "      <td>2057</td>\n",
       "      <td>2</td>\n",
       "      <td>1</td>\n",
       "      <td>2</td>\n",
       "      <td>4</td>\n",
       "      <td>...</td>\n",
       "      <td>2</td>\n",
       "      <td>5</td>\n",
       "      <td>3</td>\n",
       "      <td>4</td>\n",
       "      <td>3</td>\n",
       "      <td>3</td>\n",
       "      <td>0</td>\n",
       "      <td>1.2</td>\n",
       "      <td>0</td>\n",
       "      <td>0</td>\n",
       "    </tr>\n",
       "    <tr>\n",
       "      <th>2</th>\n",
       "      <td>17626</td>\n",
       "      <td>1</td>\n",
       "      <td>16</td>\n",
       "      <td>Personal Travel</td>\n",
       "      <td>Eco</td>\n",
       "      <td>1478</td>\n",
       "      <td>2</td>\n",
       "      <td>2</td>\n",
       "      <td>2</td>\n",
       "      <td>2</td>\n",
       "      <td>...</td>\n",
       "      <td>4</td>\n",
       "      <td>4</td>\n",
       "      <td>4</td>\n",
       "      <td>3</td>\n",
       "      <td>4</td>\n",
       "      <td>5</td>\n",
       "      <td>0</td>\n",
       "      <td>0.0</td>\n",
       "      <td>1</td>\n",
       "      <td>1</td>\n",
       "    </tr>\n",
       "    <tr>\n",
       "      <th>3</th>\n",
       "      <td>17988</td>\n",
       "      <td>1</td>\n",
       "      <td>48</td>\n",
       "      <td>Business travel</td>\n",
       "      <td>Business</td>\n",
       "      <td>2304</td>\n",
       "      <td>3</td>\n",
       "      <td>1</td>\n",
       "      <td>1</td>\n",
       "      <td>1</td>\n",
       "      <td>...</td>\n",
       "      <td>2</td>\n",
       "      <td>4</td>\n",
       "      <td>4</td>\n",
       "      <td>3</td>\n",
       "      <td>2</td>\n",
       "      <td>3</td>\n",
       "      <td>147</td>\n",
       "      <td>15.0</td>\n",
       "      <td>0</td>\n",
       "      <td>1</td>\n",
       "    </tr>\n",
       "    <tr>\n",
       "      <th>4</th>\n",
       "      <td>16703</td>\n",
       "      <td>1</td>\n",
       "      <td>52</td>\n",
       "      <td>Business travel</td>\n",
       "      <td>Eco</td>\n",
       "      <td>73</td>\n",
       "      <td>3</td>\n",
       "      <td>3</td>\n",
       "      <td>3</td>\n",
       "      <td>3</td>\n",
       "      <td>...</td>\n",
       "      <td>3</td>\n",
       "      <td>3</td>\n",
       "      <td>3</td>\n",
       "      <td>4</td>\n",
       "      <td>3</td>\n",
       "      <td>3</td>\n",
       "      <td>6</td>\n",
       "      <td>1.0</td>\n",
       "      <td>1</td>\n",
       "      <td>1</td>\n",
       "    </tr>\n",
       "  </tbody>\n",
       "</table>\n",
       "<p>5 rows × 24 columns</p>\n",
       "</div>"
      ],
      "text/plain": [
       "   Guest_ID  Frequent_Traveler  Age             Type Flight_Class  Points  \\\n",
       "0     19346                  1   30  Business travel          Eco    2695   \n",
       "1     21830                  1   57  Personal Travel          Eco    2057   \n",
       "2     17626                  1   16  Personal Travel          Eco    1478   \n",
       "3     17988                  1   48  Business travel     Business    2304   \n",
       "4     16703                  1   52  Business travel          Eco      73   \n",
       "\n",
       "   Room  Check-in/Check-out  F&B  Location  ...  Staff  Pool  \\\n",
       "0     3                   5    5         5  ...      2     3   \n",
       "1     2                   1    2         4  ...      2     5   \n",
       "2     2                   2    2         2  ...      4     4   \n",
       "3     3                   1    1         1  ...      2     4   \n",
       "4     3                   3    3         3  ...      3     3   \n",
       "\n",
       "   Baggage_Handling  Reception  Cleanliness  Online_Booking  Deposit_Kept  \\\n",
       "0                 3          3            3               3           187   \n",
       "1                 3          4            3               3             0   \n",
       "2                 4          3            4               5             0   \n",
       "3                 4          3            2               3           147   \n",
       "4                 3          4            3               3             6   \n",
       "\n",
       "   Time_Room_Service  Repeater  Female  \n",
       "0               20.2         0       0  \n",
       "1                1.2         0       0  \n",
       "2                0.0         1       1  \n",
       "3               15.0         0       1  \n",
       "4                1.0         1       1  \n",
       "\n",
       "[5 rows x 24 columns]"
      ]
     },
     "execution_count": 29,
     "metadata": {},
     "output_type": "execute_result"
    }
   ],
   "source": [
    "# Creating a dummy Variable for Female\n",
    "guest_train_d = pd.concat([guest_train, pd.get_dummies(guest_train['Gender'])], axis = 1).drop(columns=['Gender','Male'])\n",
    "guest_test_d = pd.concat([guest_test, pd.get_dummies(guest_test['Gender'])], axis = 1).drop(columns=['Gender','Male'])\n",
    "\n",
    "guest_train_d.head()"
   ]
  },
  {
   "cell_type": "markdown",
   "metadata": {
    "colab_type": "text",
    "id": "VfRKeELdp0Kl"
   },
   "source": [
    "#### Frequent Traveler "
   ]
  },
  {
   "cell_type": "code",
   "execution_count": 30,
   "metadata": {
    "colab": {},
    "colab_type": "code",
    "id": "VsjPMcWZp0Km",
    "outputId": "5d91c35f-a7c2-4bd3-8994-b25b34806d42"
   },
   "outputs": [
    {
     "data": {
      "image/png": "[encoded data removed]",
      "text/plain": [
       "<Figure size 720x360 with 2 Axes>"
      ]
     },
     "metadata": {
      "needs_background": "light"
     },
     "output_type": "display_data"
    }
   ],
   "source": [
    "bar_charts_categorical(guest_train, 'Frequent_Traveler', 'Repeater')"
   ]
  },
  {
   "cell_type": "markdown",
   "metadata": {
    "colab_type": "text",
    "id": "jKqVSr2kp0Ko"
   },
   "source": [
    "#### Type of Booking"
   ]
  },
  {
   "cell_type": "code",
   "execution_count": 31,
   "metadata": {
    "colab": {
     "base_uri": "https://localhost:8080/",
     "height": 258
    },
    "colab_type": "code",
    "id": "Mx3xsudFp0Ks",
    "outputId": "4dbc38fc-58f5-4693-c81d-1fcf79dfc81a"
   },
   "outputs": [
    {
     "data": {
      "text/html": [
       "<div>\n",
       "<style scoped>\n",
       "    .dataframe tbody tr th:only-of-type {\n",
       "        vertical-align: middle;\n",
       "    }\n",
       "\n",
       "    .dataframe tbody tr th {\n",
       "        vertical-align: top;\n",
       "    }\n",
       "\n",
       "    .dataframe thead th {\n",
       "        text-align: right;\n",
       "    }\n",
       "</style>\n",
       "<table border=\"1\" class=\"dataframe\">\n",
       "  <thead>\n",
       "    <tr style=\"text-align: right;\">\n",
       "      <th></th>\n",
       "      <th>Guest_ID</th>\n",
       "      <th>Frequent_Traveler</th>\n",
       "      <th>Age</th>\n",
       "      <th>Flight_Class</th>\n",
       "      <th>Points</th>\n",
       "      <th>Room</th>\n",
       "      <th>Check-in/Check-out</th>\n",
       "      <th>F&amp;B</th>\n",
       "      <th>Location</th>\n",
       "      <th>Wifi</th>\n",
       "      <th>...</th>\n",
       "      <th>Pool</th>\n",
       "      <th>Baggage_Handling</th>\n",
       "      <th>Reception</th>\n",
       "      <th>Cleanliness</th>\n",
       "      <th>Online_Booking</th>\n",
       "      <th>Deposit_Kept</th>\n",
       "      <th>Time_Room_Service</th>\n",
       "      <th>Repeater</th>\n",
       "      <th>Female</th>\n",
       "      <th>Business travel</th>\n",
       "    </tr>\n",
       "  </thead>\n",
       "  <tbody>\n",
       "    <tr>\n",
       "      <th>0</th>\n",
       "      <td>19346</td>\n",
       "      <td>1</td>\n",
       "      <td>30</td>\n",
       "      <td>Eco</td>\n",
       "      <td>2695</td>\n",
       "      <td>3</td>\n",
       "      <td>5</td>\n",
       "      <td>5</td>\n",
       "      <td>5</td>\n",
       "      <td>2</td>\n",
       "      <td>...</td>\n",
       "      <td>3</td>\n",
       "      <td>3</td>\n",
       "      <td>3</td>\n",
       "      <td>3</td>\n",
       "      <td>3</td>\n",
       "      <td>187</td>\n",
       "      <td>20.2</td>\n",
       "      <td>0</td>\n",
       "      <td>0</td>\n",
       "      <td>1</td>\n",
       "    </tr>\n",
       "    <tr>\n",
       "      <th>1</th>\n",
       "      <td>21830</td>\n",
       "      <td>1</td>\n",
       "      <td>57</td>\n",
       "      <td>Eco</td>\n",
       "      <td>2057</td>\n",
       "      <td>2</td>\n",
       "      <td>1</td>\n",
       "      <td>2</td>\n",
       "      <td>4</td>\n",
       "      <td>3</td>\n",
       "      <td>...</td>\n",
       "      <td>5</td>\n",
       "      <td>3</td>\n",
       "      <td>4</td>\n",
       "      <td>3</td>\n",
       "      <td>3</td>\n",
       "      <td>0</td>\n",
       "      <td>1.2</td>\n",
       "      <td>0</td>\n",
       "      <td>0</td>\n",
       "      <td>0</td>\n",
       "    </tr>\n",
       "    <tr>\n",
       "      <th>2</th>\n",
       "      <td>17626</td>\n",
       "      <td>1</td>\n",
       "      <td>16</td>\n",
       "      <td>Eco</td>\n",
       "      <td>1478</td>\n",
       "      <td>2</td>\n",
       "      <td>2</td>\n",
       "      <td>2</td>\n",
       "      <td>2</td>\n",
       "      <td>3</td>\n",
       "      <td>...</td>\n",
       "      <td>4</td>\n",
       "      <td>4</td>\n",
       "      <td>3</td>\n",
       "      <td>4</td>\n",
       "      <td>5</td>\n",
       "      <td>0</td>\n",
       "      <td>0.0</td>\n",
       "      <td>1</td>\n",
       "      <td>1</td>\n",
       "      <td>0</td>\n",
       "    </tr>\n",
       "    <tr>\n",
       "      <th>3</th>\n",
       "      <td>17988</td>\n",
       "      <td>1</td>\n",
       "      <td>48</td>\n",
       "      <td>Business</td>\n",
       "      <td>2304</td>\n",
       "      <td>3</td>\n",
       "      <td>1</td>\n",
       "      <td>1</td>\n",
       "      <td>1</td>\n",
       "      <td>3</td>\n",
       "      <td>...</td>\n",
       "      <td>4</td>\n",
       "      <td>4</td>\n",
       "      <td>3</td>\n",
       "      <td>2</td>\n",
       "      <td>3</td>\n",
       "      <td>147</td>\n",
       "      <td>15.0</td>\n",
       "      <td>0</td>\n",
       "      <td>1</td>\n",
       "      <td>1</td>\n",
       "    </tr>\n",
       "    <tr>\n",
       "      <th>4</th>\n",
       "      <td>16703</td>\n",
       "      <td>1</td>\n",
       "      <td>52</td>\n",
       "      <td>Eco</td>\n",
       "      <td>73</td>\n",
       "      <td>3</td>\n",
       "      <td>3</td>\n",
       "      <td>3</td>\n",
       "      <td>3</td>\n",
       "      <td>1</td>\n",
       "      <td>...</td>\n",
       "      <td>3</td>\n",
       "      <td>3</td>\n",
       "      <td>4</td>\n",
       "      <td>3</td>\n",
       "      <td>3</td>\n",
       "      <td>6</td>\n",
       "      <td>1.0</td>\n",
       "      <td>1</td>\n",
       "      <td>1</td>\n",
       "      <td>1</td>\n",
       "    </tr>\n",
       "  </tbody>\n",
       "</table>\n",
       "<p>5 rows × 24 columns</p>\n",
       "</div>"
      ],
      "text/plain": [
       "   Guest_ID  Frequent_Traveler  Age Flight_Class  Points  Room  \\\n",
       "0     19346                  1   30          Eco    2695     3   \n",
       "1     21830                  1   57          Eco    2057     2   \n",
       "2     17626                  1   16          Eco    1478     2   \n",
       "3     17988                  1   48     Business    2304     3   \n",
       "4     16703                  1   52          Eco      73     3   \n",
       "\n",
       "   Check-in/Check-out  F&B  Location  Wifi  ...  Pool  Baggage_Handling  \\\n",
       "0                   5    5         5     2  ...     3                 3   \n",
       "1                   1    2         4     3  ...     5                 3   \n",
       "2                   2    2         2     3  ...     4                 4   \n",
       "3                   1    1         1     3  ...     4                 4   \n",
       "4                   3    3         3     1  ...     3                 3   \n",
       "\n",
       "   Reception  Cleanliness  Online_Booking  Deposit_Kept  Time_Room_Service  \\\n",
       "0          3            3               3           187               20.2   \n",
       "1          4            3               3             0                1.2   \n",
       "2          3            4               5             0                0.0   \n",
       "3          3            2               3           147               15.0   \n",
       "4          4            3               3             6                1.0   \n",
       "\n",
       "   Repeater  Female  Business travel  \n",
       "0         0       0                1  \n",
       "1         0       0                0  \n",
       "2         1       1                0  \n",
       "3         0       1                1  \n",
       "4         1       1                1  \n",
       "\n",
       "[5 rows x 24 columns]"
      ]
     },
     "execution_count": 31,
     "metadata": {},
     "output_type": "execute_result"
    }
   ],
   "source": [
    "#Creating dummy for Business Travel\n",
    "guest_train_d = pd.concat([guest_train_d, pd.get_dummies(guest_train_d['Type'])], axis = 1).drop(columns=['Type','Personal Travel'])\n",
    "guest_test_d = pd.concat([guest_test_d, pd.get_dummies(guest_test_d['Type'])], axis = 1).drop(columns=['Type','Personal Travel'])\n",
    "guest_train_d.head()"
   ]
  },
  {
   "cell_type": "markdown",
   "metadata": {
    "colab_type": "text",
    "id": "nwZXiCIYp0Kv"
   },
   "source": [
    "#### Flight_Class"
   ]
  },
  {
   "cell_type": "code",
   "execution_count": 32,
   "metadata": {
    "colab": {},
    "colab_type": "code",
    "id": "HAzwVeJFp0Kv",
    "outputId": "61df142a-8c9f-44f9-ae60-828458ceab3c"
   },
   "outputs": [
    {
     "data": {
      "image/png": "[encoded data removed]",
      "text/plain": [
       "<Figure size 720x360 with 2 Axes>"
      ]
     },
     "metadata": {
      "needs_background": "light"
     },
     "output_type": "display_data"
    }
   ],
   "source": [
    "bar_charts_categorical(guest_train, 'Flight_Class', 'Repeater')"
   ]
  },
  {
   "cell_type": "code",
   "execution_count": 33,
   "metadata": {
    "colab": {
     "base_uri": "https://localhost:8080/",
     "height": 258
    },
    "colab_type": "code",
    "id": "N-lrzndip0K0",
    "outputId": "3c6a56c6-2c62-4b99-d7e0-40bd3f67e9d4"
   },
   "outputs": [
    {
     "data": {
      "text/html": [
       "<div>\n",
       "<style scoped>\n",
       "    .dataframe tbody tr th:only-of-type {\n",
       "        vertical-align: middle;\n",
       "    }\n",
       "\n",
       "    .dataframe tbody tr th {\n",
       "        vertical-align: top;\n",
       "    }\n",
       "\n",
       "    .dataframe thead th {\n",
       "        text-align: right;\n",
       "    }\n",
       "</style>\n",
       "<table border=\"1\" class=\"dataframe\">\n",
       "  <thead>\n",
       "    <tr style=\"text-align: right;\">\n",
       "      <th></th>\n",
       "      <th>Guest_ID</th>\n",
       "      <th>Frequent_Traveler</th>\n",
       "      <th>Age</th>\n",
       "      <th>Points</th>\n",
       "      <th>Room</th>\n",
       "      <th>Check-in/Check-out</th>\n",
       "      <th>F&amp;B</th>\n",
       "      <th>Location</th>\n",
       "      <th>Wifi</th>\n",
       "      <th>Entertainment</th>\n",
       "      <th>...</th>\n",
       "      <th>Baggage_Handling</th>\n",
       "      <th>Reception</th>\n",
       "      <th>Cleanliness</th>\n",
       "      <th>Online_Booking</th>\n",
       "      <th>Deposit_Kept</th>\n",
       "      <th>Time_Room_Service</th>\n",
       "      <th>Repeater</th>\n",
       "      <th>Female</th>\n",
       "      <th>Business travel</th>\n",
       "      <th>Business</th>\n",
       "    </tr>\n",
       "  </thead>\n",
       "  <tbody>\n",
       "    <tr>\n",
       "      <th>0</th>\n",
       "      <td>19346</td>\n",
       "      <td>1</td>\n",
       "      <td>30</td>\n",
       "      <td>2695</td>\n",
       "      <td>3</td>\n",
       "      <td>5</td>\n",
       "      <td>5</td>\n",
       "      <td>5</td>\n",
       "      <td>2</td>\n",
       "      <td>3</td>\n",
       "      <td>...</td>\n",
       "      <td>3</td>\n",
       "      <td>3</td>\n",
       "      <td>3</td>\n",
       "      <td>3</td>\n",
       "      <td>187</td>\n",
       "      <td>20.2</td>\n",
       "      <td>0</td>\n",
       "      <td>0</td>\n",
       "      <td>1</td>\n",
       "      <td>0</td>\n",
       "    </tr>\n",
       "    <tr>\n",
       "      <th>1</th>\n",
       "      <td>21830</td>\n",
       "      <td>1</td>\n",
       "      <td>57</td>\n",
       "      <td>2057</td>\n",
       "      <td>2</td>\n",
       "      <td>1</td>\n",
       "      <td>2</td>\n",
       "      <td>4</td>\n",
       "      <td>3</td>\n",
       "      <td>2</td>\n",
       "      <td>...</td>\n",
       "      <td>3</td>\n",
       "      <td>4</td>\n",
       "      <td>3</td>\n",
       "      <td>3</td>\n",
       "      <td>0</td>\n",
       "      <td>1.2</td>\n",
       "      <td>0</td>\n",
       "      <td>0</td>\n",
       "      <td>0</td>\n",
       "      <td>0</td>\n",
       "    </tr>\n",
       "    <tr>\n",
       "      <th>2</th>\n",
       "      <td>17626</td>\n",
       "      <td>1</td>\n",
       "      <td>16</td>\n",
       "      <td>1478</td>\n",
       "      <td>2</td>\n",
       "      <td>2</td>\n",
       "      <td>2</td>\n",
       "      <td>2</td>\n",
       "      <td>3</td>\n",
       "      <td>4</td>\n",
       "      <td>...</td>\n",
       "      <td>4</td>\n",
       "      <td>3</td>\n",
       "      <td>4</td>\n",
       "      <td>5</td>\n",
       "      <td>0</td>\n",
       "      <td>0.0</td>\n",
       "      <td>1</td>\n",
       "      <td>1</td>\n",
       "      <td>0</td>\n",
       "      <td>0</td>\n",
       "    </tr>\n",
       "    <tr>\n",
       "      <th>3</th>\n",
       "      <td>17988</td>\n",
       "      <td>1</td>\n",
       "      <td>48</td>\n",
       "      <td>2304</td>\n",
       "      <td>3</td>\n",
       "      <td>1</td>\n",
       "      <td>1</td>\n",
       "      <td>1</td>\n",
       "      <td>3</td>\n",
       "      <td>3</td>\n",
       "      <td>...</td>\n",
       "      <td>4</td>\n",
       "      <td>3</td>\n",
       "      <td>2</td>\n",
       "      <td>3</td>\n",
       "      <td>147</td>\n",
       "      <td>15.0</td>\n",
       "      <td>0</td>\n",
       "      <td>1</td>\n",
       "      <td>1</td>\n",
       "      <td>1</td>\n",
       "    </tr>\n",
       "    <tr>\n",
       "      <th>4</th>\n",
       "      <td>16703</td>\n",
       "      <td>1</td>\n",
       "      <td>52</td>\n",
       "      <td>73</td>\n",
       "      <td>3</td>\n",
       "      <td>3</td>\n",
       "      <td>3</td>\n",
       "      <td>3</td>\n",
       "      <td>1</td>\n",
       "      <td>2</td>\n",
       "      <td>...</td>\n",
       "      <td>3</td>\n",
       "      <td>4</td>\n",
       "      <td>3</td>\n",
       "      <td>3</td>\n",
       "      <td>6</td>\n",
       "      <td>1.0</td>\n",
       "      <td>1</td>\n",
       "      <td>1</td>\n",
       "      <td>1</td>\n",
       "      <td>0</td>\n",
       "    </tr>\n",
       "  </tbody>\n",
       "</table>\n",
       "<p>5 rows × 24 columns</p>\n",
       "</div>"
      ],
      "text/plain": [
       "   Guest_ID  Frequent_Traveler  Age  Points  Room  Check-in/Check-out  F&B  \\\n",
       "0     19346                  1   30    2695     3                   5    5   \n",
       "1     21830                  1   57    2057     2                   1    2   \n",
       "2     17626                  1   16    1478     2                   2    2   \n",
       "3     17988                  1   48    2304     3                   1    1   \n",
       "4     16703                  1   52      73     3                   3    3   \n",
       "\n",
       "   Location  Wifi  Entertainment  ...  Baggage_Handling  Reception  \\\n",
       "0         5     2              3  ...                 3          3   \n",
       "1         4     3              2  ...                 3          4   \n",
       "2         2     3              4  ...                 4          3   \n",
       "3         1     3              3  ...                 4          3   \n",
       "4         3     1              2  ...                 3          4   \n",
       "\n",
       "   Cleanliness  Online_Booking  Deposit_Kept  Time_Room_Service  Repeater  \\\n",
       "0            3               3           187               20.2         0   \n",
       "1            3               3             0                1.2         0   \n",
       "2            4               5             0                0.0         1   \n",
       "3            2               3           147               15.0         0   \n",
       "4            3               3             6                1.0         1   \n",
       "\n",
       "   Female  Business travel  Business  \n",
       "0       0                1         0  \n",
       "1       0                0         0  \n",
       "2       1                0         0  \n",
       "3       1                1         1  \n",
       "4       1                1         0  \n",
       "\n",
       "[5 rows x 24 columns]"
      ]
     },
     "execution_count": 33,
     "metadata": {},
     "output_type": "execute_result"
    }
   ],
   "source": [
    "# Creating dummy for Business and Eco \n",
    "guest_train_d = pd.concat([guest_train_d, pd.get_dummies(guest_train_d['Flight_Class'])], axis = 1).drop(columns=['Flight_Class','Eco Plus', 'Eco'])\n",
    "guest_test_d = pd.concat([guest_test_d, pd.get_dummies(guest_test_d['Flight_Class'])], axis = 1).drop(columns=['Flight_Class','Eco Plus', 'Eco'])\n",
    "\n",
    "guest_train_d.head()"
   ]
  },
  {
   "cell_type": "code",
   "execution_count": 34,
   "metadata": {
    "colab": {
     "base_uri": "https://localhost:8080/",
     "height": 350
    },
    "colab_type": "code",
    "id": "m56jP6LZp0Kp",
    "outputId": "eec5698e-238c-4d6d-f35a-4596bb5e6325"
   },
   "outputs": [
    {
     "data": {
      "image/png": "[encoded data removed]",
      "text/plain": [
       "<Figure size 720x360 with 2 Axes>"
      ]
     },
     "metadata": {
      "needs_background": "light"
     },
     "output_type": "display_data"
    }
   ],
   "source": [
    "bar_charts_categorical(guest_train, 'Type', 'Repeater')"
   ]
  },
  {
   "cell_type": "markdown",
   "metadata": {
    "colab_type": "text",
    "id": "ncTSdsnVp0K4"
   },
   "source": [
    "#### Correlation Matrix"
   ]
  },
  {
   "cell_type": "code",
   "execution_count": 35,
   "metadata": {
    "colab": {
     "base_uri": "https://localhost:8080/",
     "height": 685
    },
    "colab_type": "code",
    "id": "gEwZ9e-op0K4",
    "outputId": "a4c9360c-1fb8-4641-fda7-19b2cbe7f85b"
   },
   "outputs": [
    {
     "data": {
      "image/png": "[encoded data removed]",
      "text/plain": [
       "<Figure size 864x720 with 2 Axes>"
      ]
     },
     "metadata": {
      "needs_background": "light"
     },
     "output_type": "display_data"
    }
   ],
   "source": [
    "import seaborn as sns\n",
    "def cor_heatmap(cor):\n",
    "    plt.figure(figsize=(12,10))\n",
    "    sns.heatmap(data = cor, annot = True, cmap = plt.cm.Reds, fmt='.1')\n",
    "    plt.show()\n",
    "\n",
    "cor_heatmap(guest_train_d.iloc[:,2:-4].corr(method = 'spearman')) #'pearson'"
   ]
  },
  {
   "cell_type": "code",
   "execution_count": 36,
   "metadata": {
    "colab": {
     "base_uri": "https://localhost:8080/",
     "height": 196
    },
    "colab_type": "code",
    "id": "la5OoiB_p0K8",
    "outputId": "2bcb1a22-6c9d-46b5-f49c-18fe43dd67c6"
   },
   "outputs": [
    {
     "data": {
      "text/html": [
       "<div>\n",
       "<style scoped>\n",
       "    .dataframe tbody tr th:only-of-type {\n",
       "        vertical-align: middle;\n",
       "    }\n",
       "\n",
       "    .dataframe tbody tr th {\n",
       "        vertical-align: top;\n",
       "    }\n",
       "\n",
       "    .dataframe thead th {\n",
       "        text-align: right;\n",
       "    }\n",
       "</style>\n",
       "<table border=\"1\" class=\"dataframe\">\n",
       "  <thead>\n",
       "    <tr style=\"text-align: right;\">\n",
       "      <th></th>\n",
       "      <th>Guest_ID</th>\n",
       "      <th>Frequent_Traveler</th>\n",
       "      <th>Age</th>\n",
       "      <th>Points</th>\n",
       "      <th>Room</th>\n",
       "      <th>Check-in/Check-out</th>\n",
       "      <th>F&amp;B</th>\n",
       "      <th>Location</th>\n",
       "      <th>Wifi</th>\n",
       "      <th>Entertainment</th>\n",
       "      <th>...</th>\n",
       "      <th>Pool</th>\n",
       "      <th>Baggage_Handling</th>\n",
       "      <th>Reception</th>\n",
       "      <th>Cleanliness</th>\n",
       "      <th>Online_Booking</th>\n",
       "      <th>Deposit_Kept</th>\n",
       "      <th>Time_Room_Service</th>\n",
       "      <th>Female</th>\n",
       "      <th>Business travel</th>\n",
       "      <th>Business</th>\n",
       "    </tr>\n",
       "    <tr>\n",
       "      <th>Repeater</th>\n",
       "      <th></th>\n",
       "      <th></th>\n",
       "      <th></th>\n",
       "      <th></th>\n",
       "      <th></th>\n",
       "      <th></th>\n",
       "      <th></th>\n",
       "      <th></th>\n",
       "      <th></th>\n",
       "      <th></th>\n",
       "      <th></th>\n",
       "      <th></th>\n",
       "      <th></th>\n",
       "      <th></th>\n",
       "      <th></th>\n",
       "      <th></th>\n",
       "      <th></th>\n",
       "      <th></th>\n",
       "      <th></th>\n",
       "      <th></th>\n",
       "      <th></th>\n",
       "    </tr>\n",
       "  </thead>\n",
       "  <tbody>\n",
       "    <tr>\n",
       "      <th>0</th>\n",
       "      <td>16542.864616</td>\n",
       "      <td>0.688787</td>\n",
       "      <td>37.431339</td>\n",
       "      <td>2012.948414</td>\n",
       "      <td>2.470090</td>\n",
       "      <td>3.011141</td>\n",
       "      <td>2.671591</td>\n",
       "      <td>3.012836</td>\n",
       "      <td>2.927101</td>\n",
       "      <td>2.627028</td>\n",
       "      <td>...</td>\n",
       "      <td>3.062243</td>\n",
       "      <td>3.38048</td>\n",
       "      <td>2.960039</td>\n",
       "      <td>3.377815</td>\n",
       "      <td>2.896827</td>\n",
       "      <td>18.125938</td>\n",
       "      <td>1.879244</td>\n",
       "      <td>0.397675</td>\n",
       "      <td>0.639380</td>\n",
       "      <td>0.306127</td>\n",
       "    </tr>\n",
       "    <tr>\n",
       "      <th>1</th>\n",
       "      <td>16534.214444</td>\n",
       "      <td>0.918930</td>\n",
       "      <td>41.138000</td>\n",
       "      <td>1933.020720</td>\n",
       "      <td>3.160732</td>\n",
       "      <td>2.947697</td>\n",
       "      <td>3.013478</td>\n",
       "      <td>2.970227</td>\n",
       "      <td>3.499497</td>\n",
       "      <td>4.030779</td>\n",
       "      <td>...</td>\n",
       "      <td>3.855160</td>\n",
       "      <td>3.95514</td>\n",
       "      <td>3.648964</td>\n",
       "      <td>3.972641</td>\n",
       "      <td>3.723396</td>\n",
       "      <td>11.667673</td>\n",
       "      <td>1.180286</td>\n",
       "      <td>0.599477</td>\n",
       "      <td>0.735466</td>\n",
       "      <td>0.613961</td>\n",
       "    </tr>\n",
       "  </tbody>\n",
       "</table>\n",
       "<p>2 rows × 23 columns</p>\n",
       "</div>"
      ],
      "text/plain": [
       "              Guest_ID  Frequent_Traveler        Age       Points      Room  \\\n",
       "Repeater                                                                      \n",
       "0         16542.864616           0.688787  37.431339  2012.948414  2.470090   \n",
       "1         16534.214444           0.918930  41.138000  1933.020720  3.160732   \n",
       "\n",
       "          Check-in/Check-out       F&B  Location      Wifi  Entertainment  \\\n",
       "Repeater                                                                    \n",
       "0                   3.011141  2.671591  3.012836  2.927101       2.627028   \n",
       "1                   2.947697  3.013478  2.970227  3.499497       4.030779   \n",
       "\n",
       "          ...      Pool  Baggage_Handling  Reception  Cleanliness  \\\n",
       "Repeater  ...                                                       \n",
       "0         ...  3.062243           3.38048   2.960039     3.377815   \n",
       "1         ...  3.855160           3.95514   3.648964     3.972641   \n",
       "\n",
       "          Online_Booking  Deposit_Kept  Time_Room_Service    Female  \\\n",
       "Repeater                                                              \n",
       "0               2.896827     18.125938           1.879244  0.397675   \n",
       "1               3.723396     11.667673           1.180286  0.599477   \n",
       "\n",
       "          Business travel  Business  \n",
       "Repeater                             \n",
       "0                0.639380  0.306127  \n",
       "1                0.735466  0.613961  \n",
       "\n",
       "[2 rows x 23 columns]"
      ]
     },
     "execution_count": 36,
     "metadata": {},
     "output_type": "execute_result"
    }
   ],
   "source": [
    "guest_train_d.groupby('Repeater').mean()"
   ]
  },
  {
   "cell_type": "code",
   "execution_count": 37,
   "metadata": {
    "colab": {
     "base_uri": "https://localhost:8080/",
     "height": 258
    },
    "colab_type": "code",
    "id": "SweGV2lgp0K_",
    "outputId": "bbd03599-0923-4372-8b9a-2c7d0cd86092"
   },
   "outputs": [
    {
     "data": {
      "text/html": [
       "<div>\n",
       "<style scoped>\n",
       "    .dataframe tbody tr th:only-of-type {\n",
       "        vertical-align: middle;\n",
       "    }\n",
       "\n",
       "    .dataframe tbody tr th {\n",
       "        vertical-align: top;\n",
       "    }\n",
       "\n",
       "    .dataframe thead th {\n",
       "        text-align: right;\n",
       "    }\n",
       "</style>\n",
       "<table border=\"1\" class=\"dataframe\">\n",
       "  <thead>\n",
       "    <tr style=\"text-align: right;\">\n",
       "      <th></th>\n",
       "      <th>Frequent_Traveler</th>\n",
       "      <th>Age</th>\n",
       "      <th>Points</th>\n",
       "      <th>Room</th>\n",
       "      <th>Check-in/Check-out</th>\n",
       "      <th>F&amp;B</th>\n",
       "      <th>Location</th>\n",
       "      <th>Wifi</th>\n",
       "      <th>Entertainment</th>\n",
       "      <th>Gym</th>\n",
       "      <th>...</th>\n",
       "      <th>Pool</th>\n",
       "      <th>Baggage_Handling</th>\n",
       "      <th>Reception</th>\n",
       "      <th>Cleanliness</th>\n",
       "      <th>Online_Booking</th>\n",
       "      <th>Deposit_Kept</th>\n",
       "      <th>Repeater</th>\n",
       "      <th>Female</th>\n",
       "      <th>Business travel</th>\n",
       "      <th>Business</th>\n",
       "    </tr>\n",
       "  </thead>\n",
       "  <tbody>\n",
       "    <tr>\n",
       "      <th>0</th>\n",
       "      <td>1</td>\n",
       "      <td>30</td>\n",
       "      <td>2695</td>\n",
       "      <td>3</td>\n",
       "      <td>5</td>\n",
       "      <td>5</td>\n",
       "      <td>5</td>\n",
       "      <td>2</td>\n",
       "      <td>3</td>\n",
       "      <td>3</td>\n",
       "      <td>...</td>\n",
       "      <td>3</td>\n",
       "      <td>3</td>\n",
       "      <td>3</td>\n",
       "      <td>3</td>\n",
       "      <td>3</td>\n",
       "      <td>187</td>\n",
       "      <td>0</td>\n",
       "      <td>0</td>\n",
       "      <td>1</td>\n",
       "      <td>0</td>\n",
       "    </tr>\n",
       "    <tr>\n",
       "      <th>1</th>\n",
       "      <td>1</td>\n",
       "      <td>57</td>\n",
       "      <td>2057</td>\n",
       "      <td>2</td>\n",
       "      <td>1</td>\n",
       "      <td>2</td>\n",
       "      <td>4</td>\n",
       "      <td>3</td>\n",
       "      <td>2</td>\n",
       "      <td>3</td>\n",
       "      <td>...</td>\n",
       "      <td>5</td>\n",
       "      <td>3</td>\n",
       "      <td>4</td>\n",
       "      <td>3</td>\n",
       "      <td>3</td>\n",
       "      <td>0</td>\n",
       "      <td>0</td>\n",
       "      <td>0</td>\n",
       "      <td>0</td>\n",
       "      <td>0</td>\n",
       "    </tr>\n",
       "    <tr>\n",
       "      <th>2</th>\n",
       "      <td>1</td>\n",
       "      <td>16</td>\n",
       "      <td>1478</td>\n",
       "      <td>2</td>\n",
       "      <td>2</td>\n",
       "      <td>2</td>\n",
       "      <td>2</td>\n",
       "      <td>3</td>\n",
       "      <td>4</td>\n",
       "      <td>4</td>\n",
       "      <td>...</td>\n",
       "      <td>4</td>\n",
       "      <td>4</td>\n",
       "      <td>3</td>\n",
       "      <td>4</td>\n",
       "      <td>5</td>\n",
       "      <td>0</td>\n",
       "      <td>1</td>\n",
       "      <td>1</td>\n",
       "      <td>0</td>\n",
       "      <td>0</td>\n",
       "    </tr>\n",
       "    <tr>\n",
       "      <th>3</th>\n",
       "      <td>1</td>\n",
       "      <td>48</td>\n",
       "      <td>2304</td>\n",
       "      <td>3</td>\n",
       "      <td>1</td>\n",
       "      <td>1</td>\n",
       "      <td>1</td>\n",
       "      <td>3</td>\n",
       "      <td>3</td>\n",
       "      <td>3</td>\n",
       "      <td>...</td>\n",
       "      <td>4</td>\n",
       "      <td>4</td>\n",
       "      <td>3</td>\n",
       "      <td>2</td>\n",
       "      <td>3</td>\n",
       "      <td>147</td>\n",
       "      <td>0</td>\n",
       "      <td>1</td>\n",
       "      <td>1</td>\n",
       "      <td>1</td>\n",
       "    </tr>\n",
       "    <tr>\n",
       "      <th>4</th>\n",
       "      <td>1</td>\n",
       "      <td>52</td>\n",
       "      <td>73</td>\n",
       "      <td>3</td>\n",
       "      <td>3</td>\n",
       "      <td>3</td>\n",
       "      <td>3</td>\n",
       "      <td>1</td>\n",
       "      <td>2</td>\n",
       "      <td>4</td>\n",
       "      <td>...</td>\n",
       "      <td>3</td>\n",
       "      <td>3</td>\n",
       "      <td>4</td>\n",
       "      <td>3</td>\n",
       "      <td>3</td>\n",
       "      <td>6</td>\n",
       "      <td>1</td>\n",
       "      <td>1</td>\n",
       "      <td>1</td>\n",
       "      <td>0</td>\n",
       "    </tr>\n",
       "  </tbody>\n",
       "</table>\n",
       "<p>5 rows × 22 columns</p>\n",
       "</div>"
      ],
      "text/plain": [
       "   Frequent_Traveler  Age  Points  Room  Check-in/Check-out  F&B  Location  \\\n",
       "0                  1   30    2695     3                   5    5         5   \n",
       "1                  1   57    2057     2                   1    2         4   \n",
       "2                  1   16    1478     2                   2    2         2   \n",
       "3                  1   48    2304     3                   1    1         1   \n",
       "4                  1   52      73     3                   3    3         3   \n",
       "\n",
       "   Wifi  Entertainment  Gym  ...  Pool  Baggage_Handling  Reception  \\\n",
       "0     2              3    3  ...     3                 3          3   \n",
       "1     3              2    3  ...     5                 3          4   \n",
       "2     3              4    4  ...     4                 4          3   \n",
       "3     3              3    3  ...     4                 4          3   \n",
       "4     1              2    4  ...     3                 3          4   \n",
       "\n",
       "   Cleanliness  Online_Booking  Deposit_Kept  Repeater  Female  \\\n",
       "0            3               3           187         0       0   \n",
       "1            3               3             0         0       0   \n",
       "2            4               5             0         1       1   \n",
       "3            2               3           147         0       1   \n",
       "4            3               3             6         1       1   \n",
       "\n",
       "   Business travel  Business  \n",
       "0                1         0  \n",
       "1                0         0  \n",
       "2                0         0  \n",
       "3                1         1  \n",
       "4                1         0  \n",
       "\n",
       "[5 rows x 22 columns]"
      ]
     },
     "execution_count": 37,
     "metadata": {},
     "output_type": "execute_result"
    }
   ],
   "source": [
    "guest_train_d.drop(columns= ['Guest_ID', 'Time_Room_Service'], inplace = True)\n",
    "guest_test_d.drop(columns= [            'Time_Room_Service'], inplace = True)\n",
    "guest_train_d.head()"
   ]
  },
  {
   "cell_type": "code",
   "execution_count": 38,
   "metadata": {
    "colab": {},
    "colab_type": "code",
    "id": "FHDr_RNAp0LE"
   },
   "outputs": [],
   "source": [
    "guest_train_d['Total_Score'] = guest_train_d.loc[:,['Room', 'Check-in/Check-out','F&B', 'Wifi', 'Entertainment', 'Gym', 'Spa', 'Staff', 'Pool','Baggage_Handling', 'Reception', 'Cleanliness', 'Online_Booking', 'Location']].sum(axis=1)\n",
    "guest_test_d['Total_Score'] = guest_test_d.loc[:,['Room', 'Check-in/Check-out', 'F&B',  'Wifi', 'Entertainment', 'Gym', 'Spa', 'Staff', 'Pool','Baggage_Handling', 'Reception', 'Cleanliness', 'Online_Booking', 'Location']].sum(axis=1)"
   ]
  },
  {
   "cell_type": "code",
   "execution_count": 39,
   "metadata": {
    "colab": {
     "base_uri": "https://localhost:8080/",
     "height": 683
    },
    "colab_type": "code",
    "id": "XxeoMJHFp0LI",
    "outputId": "91a498a5-d145-42a4-b259-d013c159bdd4"
   },
   "outputs": [
    {
     "data": {
      "image/png": "[encoded data removed]",
      "text/plain": [
       "<Figure size 864x720 with 2 Axes>"
      ]
     },
     "metadata": {
      "needs_background": "light"
     },
     "output_type": "display_data"
    }
   ],
   "source": [
    "cor_heatmap(guest_train_d.iloc[:,:].corr(method = 'spearman')) "
   ]
  },
  {
   "cell_type": "code",
   "execution_count": 40,
   "metadata": {
    "colab": {
     "base_uri": "https://localhost:8080/",
     "height": 196
    },
    "colab_type": "code",
    "id": "kIo5sq4Yp0LL",
    "outputId": "911b4c19-9a71-4dd4-a529-821d9e464bff"
   },
   "outputs": [
    {
     "data": {
      "text/html": [
       "<div>\n",
       "<style scoped>\n",
       "    .dataframe tbody tr th:only-of-type {\n",
       "        vertical-align: middle;\n",
       "    }\n",
       "\n",
       "    .dataframe tbody tr th {\n",
       "        vertical-align: top;\n",
       "    }\n",
       "\n",
       "    .dataframe thead th {\n",
       "        text-align: right;\n",
       "    }\n",
       "</style>\n",
       "<table border=\"1\" class=\"dataframe\">\n",
       "  <thead>\n",
       "    <tr style=\"text-align: right;\">\n",
       "      <th></th>\n",
       "      <th>Frequent_Traveler</th>\n",
       "      <th>Age</th>\n",
       "      <th>Points</th>\n",
       "      <th>Room</th>\n",
       "      <th>Check-in/Check-out</th>\n",
       "      <th>F&amp;B</th>\n",
       "      <th>Location</th>\n",
       "      <th>Wifi</th>\n",
       "      <th>Entertainment</th>\n",
       "      <th>Gym</th>\n",
       "      <th>...</th>\n",
       "      <th>Pool</th>\n",
       "      <th>Baggage_Handling</th>\n",
       "      <th>Reception</th>\n",
       "      <th>Cleanliness</th>\n",
       "      <th>Online_Booking</th>\n",
       "      <th>Deposit_Kept</th>\n",
       "      <th>Female</th>\n",
       "      <th>Business travel</th>\n",
       "      <th>Business</th>\n",
       "      <th>Total_Score</th>\n",
       "    </tr>\n",
       "    <tr>\n",
       "      <th>Repeater</th>\n",
       "      <th></th>\n",
       "      <th></th>\n",
       "      <th></th>\n",
       "      <th></th>\n",
       "      <th></th>\n",
       "      <th></th>\n",
       "      <th></th>\n",
       "      <th></th>\n",
       "      <th></th>\n",
       "      <th></th>\n",
       "      <th></th>\n",
       "      <th></th>\n",
       "      <th></th>\n",
       "      <th></th>\n",
       "      <th></th>\n",
       "      <th></th>\n",
       "      <th></th>\n",
       "      <th></th>\n",
       "      <th></th>\n",
       "      <th></th>\n",
       "      <th></th>\n",
       "    </tr>\n",
       "  </thead>\n",
       "  <tbody>\n",
       "    <tr>\n",
       "      <th>0</th>\n",
       "      <td>0.688787</td>\n",
       "      <td>37.431339</td>\n",
       "      <td>2012.948414</td>\n",
       "      <td>2.470090</td>\n",
       "      <td>3.011141</td>\n",
       "      <td>2.671591</td>\n",
       "      <td>3.012836</td>\n",
       "      <td>2.927101</td>\n",
       "      <td>2.627028</td>\n",
       "      <td>2.964640</td>\n",
       "      <td>...</td>\n",
       "      <td>3.062243</td>\n",
       "      <td>3.38048</td>\n",
       "      <td>2.960039</td>\n",
       "      <td>3.377815</td>\n",
       "      <td>2.896827</td>\n",
       "      <td>18.125938</td>\n",
       "      <td>0.397675</td>\n",
       "      <td>0.639380</td>\n",
       "      <td>0.306127</td>\n",
       "      <td>41.243643</td>\n",
       "    </tr>\n",
       "    <tr>\n",
       "      <th>1</th>\n",
       "      <td>0.918930</td>\n",
       "      <td>41.138000</td>\n",
       "      <td>1933.020720</td>\n",
       "      <td>3.160732</td>\n",
       "      <td>2.947697</td>\n",
       "      <td>3.013478</td>\n",
       "      <td>2.970227</td>\n",
       "      <td>3.499497</td>\n",
       "      <td>4.030779</td>\n",
       "      <td>3.971233</td>\n",
       "      <td>...</td>\n",
       "      <td>3.855160</td>\n",
       "      <td>3.95514</td>\n",
       "      <td>3.648964</td>\n",
       "      <td>3.972641</td>\n",
       "      <td>3.723396</td>\n",
       "      <td>11.667673</td>\n",
       "      <td>0.599477</td>\n",
       "      <td>0.735466</td>\n",
       "      <td>0.613961</td>\n",
       "      <td>50.589016</td>\n",
       "    </tr>\n",
       "  </tbody>\n",
       "</table>\n",
       "<p>2 rows × 22 columns</p>\n",
       "</div>"
      ],
      "text/plain": [
       "          Frequent_Traveler        Age       Points      Room  \\\n",
       "Repeater                                                        \n",
       "0                  0.688787  37.431339  2012.948414  2.470090   \n",
       "1                  0.918930  41.138000  1933.020720  3.160732   \n",
       "\n",
       "          Check-in/Check-out       F&B  Location      Wifi  Entertainment  \\\n",
       "Repeater                                                                    \n",
       "0                   3.011141  2.671591  3.012836  2.927101       2.627028   \n",
       "1                   2.947697  3.013478  2.970227  3.499497       4.030779   \n",
       "\n",
       "               Gym  ...      Pool  Baggage_Handling  Reception  Cleanliness  \\\n",
       "Repeater            ...                                                       \n",
       "0         2.964640  ...  3.062243           3.38048   2.960039     3.377815   \n",
       "1         3.971233  ...  3.855160           3.95514   3.648964     3.972641   \n",
       "\n",
       "          Online_Booking  Deposit_Kept    Female  Business travel  Business  \\\n",
       "Repeater                                                                      \n",
       "0               2.896827     18.125938  0.397675         0.639380  0.306127   \n",
       "1               3.723396     11.667673  0.599477         0.735466  0.613961   \n",
       "\n",
       "          Total_Score  \n",
       "Repeater               \n",
       "0           41.243643  \n",
       "1           50.589016  \n",
       "\n",
       "[2 rows x 22 columns]"
      ]
     },
     "execution_count": 40,
     "metadata": {},
     "output_type": "execute_result"
    }
   ],
   "source": [
    "guest_train_d.groupby('Repeater').mean()"
   ]
  },
  {
   "cell_type": "markdown",
   "metadata": {
    "colab_type": "text",
    "id": "kniXC2Yfp0LR"
   },
   "source": [
    "### Train Test Split"
   ]
  },
  {
   "cell_type": "code",
   "execution_count": 41,
   "metadata": {
    "colab": {
     "base_uri": "https://localhost:8080/",
     "height": 34
    },
    "colab_type": "code",
    "id": "OhYqIKA6p0LS",
    "outputId": "c7c42a84-5bed-4de7-bac1-d2a9be4774c1"
   },
   "outputs": [
    {
     "data": {
      "text/plain": [
       "(9100, 22)"
      ]
     },
     "execution_count": 41,
     "metadata": {},
     "output_type": "execute_result"
    }
   ],
   "source": [
    "X = guest_train_d.drop(columns = ['Repeater'])\n",
    "y = guest_train_d.loc[:,'Repeater']\n",
    "X.shape"
   ]
  },
  {
   "cell_type": "code",
   "execution_count": 42,
   "metadata": {
    "colab": {},
    "colab_type": "code",
    "id": "LEFun1Lop0LY"
   },
   "outputs": [],
   "source": [
    "X_train, X_test, y_train, y_test = train_test_split(X, y,\n",
    "                                                    test_size = 0.3,\n",
    "                                                    random_state = 30,\n",
    "                                                    shuffle = True)"
   ]
  },
  {
   "cell_type": "markdown",
   "metadata": {
    "colab_type": "text",
    "id": "QX_yJarKp0Lc"
   },
   "source": [
    "### Standardzation"
   ]
  },
  {
   "cell_type": "code",
   "execution_count": 43,
   "metadata": {
    "colab": {},
    "colab_type": "code",
    "id": "GoHJ8kELp0Ld"
   },
   "outputs": [],
   "source": [
    "##### Min - Max (0 - 1)\n",
    "\n",
    "from sklearn.preprocessing import MinMaxScaler\n",
    "\n",
    "min_max_01 = MinMaxScaler().fit(X_train)\n",
    "X_train_MM01 = min_max_01.transform(X_train)\n",
    "X_test_MM01 = min_max_01.transform(X_test)\n",
    "\n",
    "#### Min - Max (-1, 1)\n",
    "\n",
    "min_max_11 = MinMaxScaler(feature_range=(-1, 1)).fit(X_train)\n",
    "X_train_MM11 = min_max_11.transform(X_train)\n",
    "X_test_MM11 = min_max_11.transform(X_test)\n",
    "\n",
    "\n",
    "#### Standard\n",
    "\n",
    "from sklearn.preprocessing import StandardScaler\n",
    "\n",
    "scaler = StandardScaler().fit(X_train)\n",
    "X_train_std = scaler.transform(X_train)\n",
    "X_test_std = scaler.transform(X_test)"
   ]
  },
  {
   "cell_type": "code",
   "execution_count": 44,
   "metadata": {
    "colab": {},
    "colab_type": "code",
    "id": "tncHaozyp0Lf"
   },
   "outputs": [],
   "source": [
    "def Model_score(X, y, model, k):\n",
    "    num_val_samples = len(X) // k  # numero de observações em cada base\n",
    "    acc_test = []\n",
    "    acc_train = []#onde iremos guardar as 4 metricas de avaliação do modelo\n",
    "    \n",
    "    for i in range(k):\n",
    "        print('processing fold #', i)\n",
    "        val_data = X[i * num_val_samples: (i+1) * num_val_samples]\n",
    "        val_targets = y[i * num_val_samples: (i + 1) * num_val_samples]\n",
    "    \n",
    "        partial_train_data = np.concatenate(\n",
    "            [X[:i * num_val_samples],\n",
    "             X[(i + 1) * num_val_samples:]],\n",
    "            axis = 0)\n",
    "    \n",
    "        partial_train_targets = np.concatenate(\n",
    "            [y[:i * num_val_samples],\n",
    "             y[(i + 1) * num_val_samples:]],\n",
    "            axis = 0)                                          # até aqui apenas um processo de dividir o validation and training set\n",
    "    \n",
    "        model.fit(partial_train_data, partial_train_targets)\n",
    "        valacc = model.score(val_data, val_targets)\n",
    "        trainacc = model.score(partial_train_data, partial_train_targets)\n",
    "        acc_test.append(round(valacc,4))\n",
    "        acc_train.append(round(trainacc,4))\n",
    "    print(' ')\n",
    "    print('\\033[1m' + 'Training '+'\\033[0m',' - Highest: ',np.max(acc_train) ,' AVG: ',round(np.mean(acc_train),4),' Lowest: ',np.min(acc_train))\n",
    "    print('\\033[1m' + '    Test '+'\\033[0m',' - Highest: ',np.max(acc_test) ,' AVG: ',round(np.mean(acc_test),4),' Lowest: ',np.min(acc_test))"
   ]
  },
  {
   "cell_type": "code",
   "execution_count": 45,
   "metadata": {
    "colab": {
     "base_uri": "https://localhost:8080/",
     "height": 34
    },
    "colab_type": "code",
    "id": "XsvkgfcKp0Lh",
    "outputId": "96cb4343-4fd1-4fe2-d599-1df06f6b3c22"
   },
   "outputs": [
    {
     "data": {
      "text/plain": [
       "(6370, 22)"
      ]
     },
     "execution_count": 45,
     "metadata": {},
     "output_type": "execute_result"
    }
   ],
   "source": [
    "X_train.shape"
   ]
  },
  {
   "cell_type": "code",
   "execution_count": 46,
   "metadata": {
    "colab": {
     "base_uri": "https://localhost:8080/",
     "height": 258
    },
    "colab_type": "code",
    "id": "tpj-PwFaYI2i",
    "outputId": "294422bd-d724-4e2b-cd3a-8e87656b2536"
   },
   "outputs": [
    {
     "data": {
      "text/html": [
       "<div>\n",
       "<style scoped>\n",
       "    .dataframe tbody tr th:only-of-type {\n",
       "        vertical-align: middle;\n",
       "    }\n",
       "\n",
       "    .dataframe tbody tr th {\n",
       "        vertical-align: top;\n",
       "    }\n",
       "\n",
       "    .dataframe thead th {\n",
       "        text-align: right;\n",
       "    }\n",
       "</style>\n",
       "<table border=\"1\" class=\"dataframe\">\n",
       "  <thead>\n",
       "    <tr style=\"text-align: right;\">\n",
       "      <th></th>\n",
       "      <th>Frequent_Traveler</th>\n",
       "      <th>Age</th>\n",
       "      <th>Points</th>\n",
       "      <th>Room</th>\n",
       "      <th>Check-in/Check-out</th>\n",
       "      <th>F&amp;B</th>\n",
       "      <th>Location</th>\n",
       "      <th>Wifi</th>\n",
       "      <th>Entertainment</th>\n",
       "      <th>Gym</th>\n",
       "      <th>...</th>\n",
       "      <th>Pool</th>\n",
       "      <th>Baggage_Handling</th>\n",
       "      <th>Reception</th>\n",
       "      <th>Cleanliness</th>\n",
       "      <th>Online_Booking</th>\n",
       "      <th>Deposit_Kept</th>\n",
       "      <th>Female</th>\n",
       "      <th>Business travel</th>\n",
       "      <th>Business</th>\n",
       "      <th>Total_Score</th>\n",
       "    </tr>\n",
       "  </thead>\n",
       "  <tbody>\n",
       "    <tr>\n",
       "      <th>3397</th>\n",
       "      <td>0</td>\n",
       "      <td>21</td>\n",
       "      <td>1824</td>\n",
       "      <td>5</td>\n",
       "      <td>0</td>\n",
       "      <td>5</td>\n",
       "      <td>4</td>\n",
       "      <td>2</td>\n",
       "      <td>5</td>\n",
       "      <td>2</td>\n",
       "      <td>...</td>\n",
       "      <td>5</td>\n",
       "      <td>4</td>\n",
       "      <td>4</td>\n",
       "      <td>4</td>\n",
       "      <td>2</td>\n",
       "      <td>16</td>\n",
       "      <td>0</td>\n",
       "      <td>1</td>\n",
       "      <td>1</td>\n",
       "      <td>47</td>\n",
       "    </tr>\n",
       "    <tr>\n",
       "      <th>6639</th>\n",
       "      <td>1</td>\n",
       "      <td>39</td>\n",
       "      <td>1952</td>\n",
       "      <td>2</td>\n",
       "      <td>1</td>\n",
       "      <td>2</td>\n",
       "      <td>3</td>\n",
       "      <td>5</td>\n",
       "      <td>2</td>\n",
       "      <td>3</td>\n",
       "      <td>...</td>\n",
       "      <td>3</td>\n",
       "      <td>1</td>\n",
       "      <td>2</td>\n",
       "      <td>3</td>\n",
       "      <td>5</td>\n",
       "      <td>2</td>\n",
       "      <td>0</td>\n",
       "      <td>0</td>\n",
       "      <td>0</td>\n",
       "      <td>40</td>\n",
       "    </tr>\n",
       "    <tr>\n",
       "      <th>3505</th>\n",
       "      <td>1</td>\n",
       "      <td>24</td>\n",
       "      <td>2453</td>\n",
       "      <td>3</td>\n",
       "      <td>5</td>\n",
       "      <td>3</td>\n",
       "      <td>1</td>\n",
       "      <td>5</td>\n",
       "      <td>3</td>\n",
       "      <td>5</td>\n",
       "      <td>...</td>\n",
       "      <td>3</td>\n",
       "      <td>3</td>\n",
       "      <td>4</td>\n",
       "      <td>3</td>\n",
       "      <td>5</td>\n",
       "      <td>0</td>\n",
       "      <td>0</td>\n",
       "      <td>0</td>\n",
       "      <td>0</td>\n",
       "      <td>50</td>\n",
       "    </tr>\n",
       "    <tr>\n",
       "      <th>5282</th>\n",
       "      <td>1</td>\n",
       "      <td>48</td>\n",
       "      <td>1760</td>\n",
       "      <td>2</td>\n",
       "      <td>5</td>\n",
       "      <td>5</td>\n",
       "      <td>5</td>\n",
       "      <td>5</td>\n",
       "      <td>4</td>\n",
       "      <td>3</td>\n",
       "      <td>...</td>\n",
       "      <td>2</td>\n",
       "      <td>2</td>\n",
       "      <td>3</td>\n",
       "      <td>2</td>\n",
       "      <td>1</td>\n",
       "      <td>26</td>\n",
       "      <td>1</td>\n",
       "      <td>1</td>\n",
       "      <td>0</td>\n",
       "      <td>43</td>\n",
       "    </tr>\n",
       "    <tr>\n",
       "      <th>1830</th>\n",
       "      <td>1</td>\n",
       "      <td>48</td>\n",
       "      <td>1783</td>\n",
       "      <td>5</td>\n",
       "      <td>5</td>\n",
       "      <td>5</td>\n",
       "      <td>5</td>\n",
       "      <td>3</td>\n",
       "      <td>4</td>\n",
       "      <td>5</td>\n",
       "      <td>...</td>\n",
       "      <td>5</td>\n",
       "      <td>5</td>\n",
       "      <td>4</td>\n",
       "      <td>5</td>\n",
       "      <td>4</td>\n",
       "      <td>27</td>\n",
       "      <td>1</td>\n",
       "      <td>1</td>\n",
       "      <td>1</td>\n",
       "      <td>65</td>\n",
       "    </tr>\n",
       "  </tbody>\n",
       "</table>\n",
       "<p>5 rows × 22 columns</p>\n",
       "</div>"
      ],
      "text/plain": [
       "      Frequent_Traveler  Age  Points  Room  Check-in/Check-out  F&B  Location  \\\n",
       "3397                  0   21    1824     5                   0    5         4   \n",
       "6639                  1   39    1952     2                   1    2         3   \n",
       "3505                  1   24    2453     3                   5    3         1   \n",
       "5282                  1   48    1760     2                   5    5         5   \n",
       "1830                  1   48    1783     5                   5    5         5   \n",
       "\n",
       "      Wifi  Entertainment  Gym  ...  Pool  Baggage_Handling  Reception  \\\n",
       "3397     2              5    2  ...     5                 4          4   \n",
       "6639     5              2    3  ...     3                 1          2   \n",
       "3505     5              3    5  ...     3                 3          4   \n",
       "5282     5              4    3  ...     2                 2          3   \n",
       "1830     3              4    5  ...     5                 5          4   \n",
       "\n",
       "      Cleanliness  Online_Booking  Deposit_Kept  Female  Business travel  \\\n",
       "3397            4               2            16       0                1   \n",
       "6639            3               5             2       0                0   \n",
       "3505            3               5             0       0                0   \n",
       "5282            2               1            26       1                1   \n",
       "1830            5               4            27       1                1   \n",
       "\n",
       "      Business  Total_Score  \n",
       "3397         1           47  \n",
       "6639         0           40  \n",
       "3505         0           50  \n",
       "5282         0           43  \n",
       "1830         1           65  \n",
       "\n",
       "[5 rows x 22 columns]"
      ]
     },
     "execution_count": 46,
     "metadata": {},
     "output_type": "execute_result"
    }
   ],
   "source": [
    "X_train.head()"
   ]
  },
  {
   "cell_type": "markdown",
   "metadata": {
    "colab_type": "text",
    "id": "EZvD7hVtp0Lk"
   },
   "source": [
    "### For Min Max (0;1)"
   ]
  },
  {
   "cell_type": "code",
   "execution_count": 0,
   "metadata": {
    "colab": {},
    "colab_type": "code",
    "id": "amwa3xnKp0Ll"
   },
   "outputs": [],
   "source": [
    "parameter_space = {\n",
    "    'hidden_layer_sizes': [(24,16), (32,28), (32,24), (32,20), (30,28), (30,24), (30,20), (28,24), (28,22), (28,20), (28,18), (28,16), (28,14), (26,24), (26,22), (26,20), (26,18), (26,16)],\n",
    "    'activation': ['relu'],\n",
    "    'solver': ['adam'],\n",
    "    'learning_rate_init': [0.001],\n",
    "    'learning_rate': ['invscaling','adaptive'],\n",
    "    'batch_size' : [32, 48, 64, 98, 128]\n",
    "}"
   ]
  },
  {
   "cell_type": "code",
   "execution_count": 18,
   "metadata": {
    "colab": {
     "base_uri": "https://localhost:8080/",
     "height": 119
    },
    "colab_type": "code",
    "id": "nfE8k3s4p0Lo",
    "outputId": "2c6ef52e-e2b0-4458-af18-75cbdbeec224"
   },
   "outputs": [
    {
     "data": {
      "text/plain": [
       "{'activation': 'relu',\n",
       " 'batch_size': 48,\n",
       " 'hidden_layer_sizes': (28, 22),\n",
       " 'learning_rate': 'invscaling',\n",
       " 'learning_rate_init': 0.001,\n",
       " 'solver': 'adam'}"
      ]
     },
     "execution_count": 18,
     "metadata": {
      "tags": []
     },
     "output_type": "execute_result"
    }
   ],
   "source": [
    "model1 = MLPClassifier()\n",
    "clf1 = GridSearchCV(model1, parameter_space)\n",
    "clf1.fit(X_train_MM01, y_train)\n",
    "clf1.best_params_"
   ]
  },
  {
   "cell_type": "code",
   "execution_count": 19,
   "metadata": {
    "colab": {
     "base_uri": "https://localhost:8080/",
     "height": 170
    },
    "colab_type": "code",
    "id": "iNK_SWeMp0L2",
    "outputId": "26c9d4b3-5c95-4766-d799-3410db140367"
   },
   "outputs": [
    {
     "name": "stdout",
     "output_type": "stream",
     "text": [
      "processing fold # 0\n",
      "processing fold # 1\n",
      "processing fold # 2\n",
      "processing fold # 3\n",
      "processing fold # 4\n",
      "processing fold # 5\n",
      " \n",
      "\u001b[1mTraining \u001b[0m  - Highest:  0.9584  AVG:  0.9496  Lowest:  0.9405\n",
      "\u001b[1m    Test \u001b[0m  - Highest:  0.9274  AVG:  0.9166  Lowest:  0.9048\n"
     ]
    }
   ],
   "source": [
    "model_MM01 = MLPClassifier(activation = 'relu',\n",
    "                            hidden_layer_sizes = (28, 22),\n",
    "                            learning_rate = 'invscaling',\n",
    "                            learning_rate_init = 0.001,\n",
    "                            batch_size =  48,\n",
    "                            solver =  'adam'\n",
    "                            ).fit(X_train_MM01, y_train)\n",
    "Model_score(X_train_MM01, y_train, model_MM01, 6)"
   ]
  },
  {
   "cell_type": "code",
   "execution_count": 20,
   "metadata": {
    "colab": {
     "base_uri": "https://localhost:8080/",
     "height": 34
    },
    "colab_type": "code",
    "id": "Q25J0wuXtGfo",
    "outputId": "de7595b8-ea68-40b5-fe20-cc379a433eaa"
   },
   "outputs": [
    {
     "data": {
      "text/plain": [
       "0.9372056514913658"
      ]
     },
     "execution_count": 20,
     "metadata": {
      "tags": []
     },
     "output_type": "execute_result"
    }
   ],
   "source": [
    "model_MM01.score(X_train_MM01, y_train)"
   ]
  },
  {
   "cell_type": "code",
   "execution_count": 21,
   "metadata": {
    "colab": {
     "base_uri": "https://localhost:8080/",
     "height": 34
    },
    "colab_type": "code",
    "id": "aHCN6_EktGfr",
    "outputId": "717f2382-ac0c-4ff0-f4eb-844cf1d75bcc"
   },
   "outputs": [
    {
     "data": {
      "text/plain": [
       "0.9161172161172161"
      ]
     },
     "execution_count": 21,
     "metadata": {
      "tags": []
     },
     "output_type": "execute_result"
    }
   ],
   "source": [
    "model_MM01.score(X_test_MM01, y_test)"
   ]
  },
  {
   "cell_type": "code",
   "execution_count": 22,
   "metadata": {
    "colab": {
     "base_uri": "https://localhost:8080/",
     "height": 34
    },
    "colab_type": "code",
    "id": "e4FNTFuDtGft",
    "outputId": "ae4895c6-c6fb-4d17-e307-c0b11fce3549"
   },
   "outputs": [
    {
     "name": "stderr",
     "output_type": "stream",
     "text": [
      "Using TensorFlow backend.\n"
     ]
    }
   ],
   "source": [
    "from keras import models\n",
    "from keras import layers\n",
    "model1 = models.Sequential()\n",
    "model1.add(layers.Dense(28,activation = 'relu', kernel_initializer='uniform', input_shape = (X_train_MM01.shape[1],)))\n",
    "model1.add(layers.Dropout(0.1)) # Randomly drop some weigths in this case 10%\n",
    "model1.add(layers.Dense(22,activation = 'relu', kernel_initializer='uniform'))\n",
    "model1.add(layers.Dropout(0.1))\n",
    "model1.add(layers.Dense(1,activation = 'sigmoid'))"
   ]
  },
  {
   "cell_type": "code",
   "execution_count": 0,
   "metadata": {
    "colab": {},
    "colab_type": "code",
    "id": "xjcwGEpNtGfv"
   },
   "outputs": [],
   "source": [
    "model1.compile(optimizer = 'adam', loss = 'binary_crossentropy', metrics = ['accuracy'] )"
   ]
  },
  {
   "cell_type": "code",
   "execution_count": 0,
   "metadata": {
    "colab": {},
    "colab_type": "code",
    "id": "stRfUot2tGfy"
   },
   "outputs": [],
   "source": [
    "history1 = model1.fit(X_train_MM01, y_train, epochs = 200, batch_size = 64, verbose = 0)"
   ]
  },
  {
   "cell_type": "code",
   "execution_count": 25,
   "metadata": {
    "colab": {
     "base_uri": "https://localhost:8080/",
     "height": 51
    },
    "colab_type": "code",
    "id": "YUADi4iLtGf0",
    "outputId": "b44d75a4-08ab-44d3-fefc-67493fdc426b"
   },
   "outputs": [
    {
     "name": "stdout",
     "output_type": "stream",
     "text": [
      "2730/2730 [==============================] - 0s 37us/step\n"
     ]
    },
    {
     "data": {
      "text/plain": [
       "[0.17115454842974415, 0.9245421290397644]"
      ]
     },
     "execution_count": 25,
     "metadata": {
      "tags": []
     },
     "output_type": "execute_result"
    }
   ],
   "source": [
    "model1.evaluate(X_test_MM01, y_test)"
   ]
  },
  {
   "cell_type": "markdown",
   "metadata": {
    "colab_type": "text",
    "id": "1X72sVsdp0MD"
   },
   "source": [
    "## For Min Max (-1;1)"
   ]
  },
  {
   "cell_type": "code",
   "execution_count": 0,
   "metadata": {
    "colab": {},
    "colab_type": "code",
    "id": "2D2tg9bSp0MF"
   },
   "outputs": [],
   "source": [
    "parameter_space = {\n",
    "    'hidden_layer_sizes': [(18,18), (18,16), (18,14), (18,12), (16,16), (16,14), (16,12), (15,15), (15,14), (15,13), (15,12), (14,14), (14,12), (14,10), (14,8), (13,13), (13,10), (13,8), (12,12)],\n",
    "    'activation': ['relu'],\n",
    "    'solver': ['adam'],\n",
    "    'learning_rate_init': [0.001],\n",
    "    'learning_rate': ['invscaling','adaptive', 'constant'],\n",
    "    'batch_size' : [32, 64, 96, 128, 256]\n",
    "}"
   ]
  },
  {
   "cell_type": "code",
   "execution_count": 0,
   "metadata": {
    "colab": {
     "base_uri": "https://localhost:8080/",
     "height": 119
    },
    "colab_type": "code",
    "id": "kZjnLgiJp0ML",
    "outputId": "c5a8db66-61a6-4915-ef6b-d55f7ba1f09f"
   },
   "outputs": [
    {
     "data": {
      "text/plain": [
       "{'activation': 'relu',\n",
       " 'batch_size': 64,\n",
       " 'hidden_layer_sizes': (14, 8),\n",
       " 'learning_rate': 'adaptive',\n",
       " 'learning_rate_init': 0.001,\n",
       " 'solver': 'adam'}"
      ]
     },
     "execution_count": 14,
     "metadata": {
      "tags": []
     },
     "output_type": "execute_result"
    }
   ],
   "source": [
    "model1 = MLPClassifier()\n",
    "clf1 = GridSearchCV(model1, parameter_space)\n",
    "clf1.fit(X_train_MM11, y_train)\n",
    "clf1.best_params_"
   ]
  },
  {
   "cell_type": "code",
   "execution_count": 0,
   "metadata": {
    "colab": {
     "base_uri": "https://localhost:8080/",
     "height": 170
    },
    "colab_type": "code",
    "id": "brBcfWQYp0MQ",
    "outputId": "b5cd38ac-d279-4031-f7a8-53337c2aed86"
   },
   "outputs": [
    {
     "name": "stdout",
     "output_type": "stream",
     "text": [
      "processing fold # 0\n",
      "processing fold # 1\n",
      "processing fold # 2\n",
      "processing fold # 3\n",
      "processing fold # 4\n",
      "processing fold # 5\n",
      " \n",
      "\u001b[1mTraining \u001b[0m  - Highest:  0.9499  AVG:  0.9454  Lowest:  0.9429\n",
      "\u001b[1m    Test \u001b[0m  - Highest:  0.9227  AVG:  0.9172  Lowest:  0.9105\n"
     ]
    }
   ],
   "source": [
    "model_MM11 = MLPClassifier(activation = 'relu',\n",
    "                           batch_size=64,\n",
    "                           hidden_layer_sizes = (14,8),\n",
    "                           learning_rate = 'adaptive',\n",
    "                           learning_rate_init = 0.001,\n",
    "                           solver =  'adam'\n",
    "                          )\n",
    "Model_score(X_train_MM11, y_train, model_MM11, 6)"
   ]
  },
  {
   "cell_type": "code",
   "execution_count": 0,
   "metadata": {
    "colab": {
     "base_uri": "https://localhost:8080/",
     "height": 34
    },
    "colab_type": "code",
    "id": "7wLJwDYCVsw0",
    "outputId": "c28f37e4-dad3-4d4e-ae37-48c6d05b0e99"
   },
   "outputs": [
    {
     "data": {
      "text/plain": [
       "0.9398744113029828"
      ]
     },
     "execution_count": 17,
     "metadata": {
      "tags": []
     },
     "output_type": "execute_result"
    }
   ],
   "source": [
    "model_MM11.score(X_train_MM11, y_train)"
   ]
  },
  {
   "cell_type": "code",
   "execution_count": 0,
   "metadata": {
    "colab": {
     "base_uri": "https://localhost:8080/",
     "height": 34
    },
    "colab_type": "code",
    "id": "DeiAbUGcVs8B",
    "outputId": "ecb0c4e1-b346-42ff-dc5d-2dc2f35e039c"
   },
   "outputs": [
    {
     "data": {
      "text/plain": [
       "0.9157509157509157"
      ]
     },
     "execution_count": 18,
     "metadata": {
      "tags": []
     },
     "output_type": "execute_result"
    }
   ],
   "source": [
    "model_MM11.score(X_test_MM11, y_test)"
   ]
  },
  {
   "cell_type": "code",
   "execution_count": 0,
   "metadata": {
    "colab": {},
    "colab_type": "code",
    "id": "dzzbyNy-VtMa"
   },
   "outputs": [],
   "source": [
    "from keras import models\n",
    "from keras import layers\n",
    "model2 = models.Sequential()\n",
    "model2.add(layers.Dense(14,activation = 'relu', kernel_initializer='uniform', input_shape = (X_train_MM11.shape[1],)))\n",
    "model2.add(layers.Dropout(0.05)) # Randomly drop some weigths in this case 10%\n",
    "model2.add(layers.Dense(8,activation = 'relu', kernel_initializer='uniform'))\n",
    "model2.add(layers.Dropout(0.05))\n",
    "model2.add(layers.Dense(1,activation = 'sigmoid'))\n",
    "\n",
    "model2.compile(optimizer = 'adam', loss = 'binary_crossentropy', metrics = ['accuracy'] )\n",
    "history2 = model2.fit(X_train_MM11, y_train, epochs = 200, batch_size = 64, verbose = 0)"
   ]
  },
  {
   "cell_type": "code",
   "execution_count": 0,
   "metadata": {
    "colab": {
     "base_uri": "https://localhost:8080/",
     "height": 51
    },
    "colab_type": "code",
    "id": "xau_2ODcWenR",
    "outputId": "30b18e9d-f0ba-4c31-c26e-0ff89ed92252"
   },
   "outputs": [
    {
     "name": "stdout",
     "output_type": "stream",
     "text": [
      "2730/2730 [==============================] - 0s 28us/step\n"
     ]
    },
    {
     "data": {
      "text/plain": [
       "[0.15513738689623474, 0.9322344064712524]"
      ]
     },
     "execution_count": 29,
     "metadata": {
      "tags": []
     },
     "output_type": "execute_result"
    }
   ],
   "source": [
    "model2.evaluate(X_test_MM11, y_test) ## Vencedor"
   ]
  },
  {
   "cell_type": "markdown",
   "metadata": {
    "colab_type": "text",
    "id": "zzuPrLfBp0M8"
   },
   "source": [
    "## For Standart Scaler"
   ]
  },
  {
   "cell_type": "code",
   "execution_count": 0,
   "metadata": {
    "colab": {},
    "colab_type": "code",
    "id": "5o8lCj-lp0M8"
   },
   "outputs": [],
   "source": [
    "parameter_space = {\n",
    "    'hidden_layer_sizes': [(20,18), (20,16), (20,14), (20,12), (20,10), (18,18), (18,16), (18,14), (18,12), (18,10), (16,16), (16,14), (16,12), (16,10), (16,8), (14,14), (14,12), (14,8), (13,13), (13,11), (12,12), (12,10), (12,6), (12,8)],\n",
    "    'activation': ['relu'],\n",
    "    'solver': ['adam'],\n",
    "    'learning_rate_init': [0.001, 0.0008],\n",
    "    'learning_rate': ['invscaling','adaptive'],\n",
    "    'batch_size' : [48, 64, 96, 128]\n",
    "}"
   ]
  },
  {
   "cell_type": "code",
   "execution_count": 58,
   "metadata": {
    "colab": {
     "base_uri": "https://localhost:8080/",
     "height": 119
    },
    "colab_type": "code",
    "id": "fcZewrbXp0NB",
    "outputId": "20fb2963-835c-4f95-a2ee-88a540745742"
   },
   "outputs": [
    {
     "data": {
      "text/plain": [
       "{'activation': 'relu',\n",
       " 'batch_size': 128,\n",
       " 'hidden_layer_sizes': (20, 14),\n",
       " 'learning_rate': 'adaptive',\n",
       " 'learning_rate_init': 0.001,\n",
       " 'solver': 'adam'}"
      ]
     },
     "execution_count": 58,
     "metadata": {
      "tags": []
     },
     "output_type": "execute_result"
    }
   ],
   "source": [
    "model3 = MLPClassifier()\n",
    "clf3 = GridSearchCV(model3, parameter_space)\n",
    "clf3.fit(X_train_std, y_train)\n",
    "clf3.best_params_"
   ]
  },
  {
   "cell_type": "code",
   "execution_count": 59,
   "metadata": {
    "colab": {
     "base_uri": "https://localhost:8080/",
     "height": 170
    },
    "colab_type": "code",
    "id": "M5ww5HGmp0NI",
    "outputId": "9a7626af-8efc-4e51-d486-45dc98e952da"
   },
   "outputs": [
    {
     "name": "stdout",
     "output_type": "stream",
     "text": [
      "processing fold # 0\n",
      "processing fold # 1\n",
      "processing fold # 2\n",
      "processing fold # 3\n",
      "processing fold # 4\n",
      "processing fold # 5\n",
      " \n",
      "\u001b[1mTraining \u001b[0m  - Highest:  0.9672  AVG:  0.9626  Lowest:  0.9557\n",
      "\u001b[1m    Test \u001b[0m  - Highest:  0.9246  AVG:  0.9139  Lowest:  0.8992\n"
     ]
    }
   ],
   "source": [
    "model_std = MLPClassifier(activation = 'relu',\n",
    "                           batch_size=128,\n",
    "                           hidden_layer_sizes = (20,14),\n",
    "                           learning_rate = 'adaptive',\n",
    "                           learning_rate_init = 0.001,\n",
    "                           solver =  'adam'\n",
    "                          )\n",
    "Model_score(X_train_std, y_train, model_std, 6)"
   ]
  },
  {
   "cell_type": "code",
   "execution_count": 60,
   "metadata": {
    "colab": {
     "base_uri": "https://localhost:8080/",
     "height": 34
    },
    "colab_type": "code",
    "id": "6n-qrpsHQZ_R",
    "outputId": "b2b99b07-cde6-4db7-82d8-bcf76c139008"
   },
   "outputs": [
    {
     "data": {
      "text/plain": [
       "0.9494505494505494"
      ]
     },
     "execution_count": 60,
     "metadata": {
      "tags": []
     },
     "output_type": "execute_result"
    }
   ],
   "source": [
    "model_std.score(X_train_std, y_train)"
   ]
  },
  {
   "cell_type": "code",
   "execution_count": 61,
   "metadata": {
    "colab": {
     "base_uri": "https://localhost:8080/",
     "height": 34
    },
    "colab_type": "code",
    "id": "WoL_NF3pQaTC",
    "outputId": "61952b50-4150-4729-aa7f-c7a8de7aa300"
   },
   "outputs": [
    {
     "data": {
      "text/plain": [
       "0.9095238095238095"
      ]
     },
     "execution_count": 61,
     "metadata": {
      "tags": []
     },
     "output_type": "execute_result"
    }
   ],
   "source": [
    "model_std.score(X_test_std, y_test)"
   ]
  },
  {
   "cell_type": "code",
   "execution_count": 0,
   "metadata": {
    "colab": {},
    "colab_type": "code",
    "id": "I0mzs4IlQuMV"
   },
   "outputs": [],
   "source": [
    "model3 = models.Sequential()\n",
    "model3.add(layers.Dense(20,activation = 'relu', kernel_initializer='uniform', input_shape = (X_train_MM11.shape[1],)))\n",
    "model3.add(layers.Dropout(0.01)) # Randomly drop some weigths in this case 10%\n",
    "model3.add(layers.Dense(14,activation = 'relu', kernel_initializer='uniform'))\n",
    "model3.add(layers.Dropout(0.01))\n",
    "model3.add(layers.Dense(1,activation = 'sigmoid'))\n",
    "\n",
    "model3.compile(optimizer = 'adam', loss = 'binary_crossentropy', metrics = ['accuracy'] )\n",
    "history3 = model3.fit(X_train_std, y_train, epochs = 200, batch_size = 128, verbose = 0)"
   ]
  },
  {
   "cell_type": "code",
   "execution_count": 75,
   "metadata": {
    "colab": {
     "base_uri": "https://localhost:8080/",
     "height": 51
    },
    "colab_type": "code",
    "id": "rjSQKHQpRCfa",
    "outputId": "0711e477-8178-483e-89da-4e6def927994"
   },
   "outputs": [
    {
     "name": "stdout",
     "output_type": "stream",
     "text": [
      "2730/2730 [==============================] - 0s 27us/step\n"
     ]
    },
    {
     "data": {
      "text/plain": [
       "[0.20004301905195354, 0.9190475940704346]"
      ]
     },
     "execution_count": 75,
     "metadata": {
      "tags": []
     },
     "output_type": "execute_result"
    }
   ],
   "source": [
    "model3.evaluate(X_test_std, y_test)"
   ]
  },
  {
   "cell_type": "markdown",
   "metadata": {
    "colab_type": "text",
    "id": "4PB-WP1qp0N6"
   },
   "source": [
    "## Output File"
   ]
  },
  {
   "cell_type": "markdown",
   "metadata": {
    "colab_type": "text",
    "id": "APr3RgOVp0N-"
   },
   "source": [
    "### Prepare test file"
   ]
  },
  {
   "cell_type": "code",
   "execution_count": 49,
   "metadata": {
    "colab": {
     "base_uri": "https://localhost:8080/",
     "height": 34
    },
    "colab_type": "code",
    "id": "qNQibCuIp0N-",
    "outputId": "5c486922-0f76-48da-9bde-929b82b09c9e"
   },
   "outputs": [
    {
     "data": {
      "text/plain": [
       "(3900, 22)"
      ]
     },
     "execution_count": 49,
     "metadata": {
      "tags": []
     },
     "output_type": "execute_result"
    }
   ],
   "source": [
    "guest_test_final = guest_test_d.drop(columns = ['Guest_ID'])\n",
    "guest_test_final.shape"
   ]
  },
  {
   "cell_type": "code",
   "execution_count": 31,
   "metadata": {
    "colab": {
     "base_uri": "https://localhost:8080/",
     "height": 258
    },
    "colab_type": "code",
    "id": "werlLrjqXxdr",
    "outputId": "be46139e-580d-4b06-a865-342682024092"
   },
   "outputs": [
    {
     "data": {
      "text/html": [
       "<div>\n",
       "<style scoped>\n",
       "    .dataframe tbody tr th:only-of-type {\n",
       "        vertical-align: middle;\n",
       "    }\n",
       "\n",
       "    .dataframe tbody tr th {\n",
       "        vertical-align: top;\n",
       "    }\n",
       "\n",
       "    .dataframe thead th {\n",
       "        text-align: right;\n",
       "    }\n",
       "</style>\n",
       "<table border=\"1\" class=\"dataframe\">\n",
       "  <thead>\n",
       "    <tr style=\"text-align: right;\">\n",
       "      <th></th>\n",
       "      <th>Frequent_Traveler</th>\n",
       "      <th>Age</th>\n",
       "      <th>Points</th>\n",
       "      <th>Room</th>\n",
       "      <th>Check-in/Check-out</th>\n",
       "      <th>F&amp;B</th>\n",
       "      <th>Location</th>\n",
       "      <th>Wifi</th>\n",
       "      <th>Entertainment</th>\n",
       "      <th>Gym</th>\n",
       "      <th>Spa</th>\n",
       "      <th>Staff</th>\n",
       "      <th>Pool</th>\n",
       "      <th>Baggage_Handling</th>\n",
       "      <th>Reception</th>\n",
       "      <th>Cleanliness</th>\n",
       "      <th>Online_Booking</th>\n",
       "      <th>Deposit_Kept</th>\n",
       "      <th>Female</th>\n",
       "      <th>Business travel</th>\n",
       "      <th>Business</th>\n",
       "      <th>Total_Score</th>\n",
       "    </tr>\n",
       "  </thead>\n",
       "  <tbody>\n",
       "    <tr>\n",
       "      <th>0</th>\n",
       "      <td>0</td>\n",
       "      <td>38</td>\n",
       "      <td>2097</td>\n",
       "      <td>3</td>\n",
       "      <td>3</td>\n",
       "      <td>3</td>\n",
       "      <td>4</td>\n",
       "      <td>3</td>\n",
       "      <td>1</td>\n",
       "      <td>1</td>\n",
       "      <td>1</td>\n",
       "      <td>1</td>\n",
       "      <td>3</td>\n",
       "      <td>3</td>\n",
       "      <td>1</td>\n",
       "      <td>4</td>\n",
       "      <td>1</td>\n",
       "      <td>112</td>\n",
       "      <td>1</td>\n",
       "      <td>1</td>\n",
       "      <td>0</td>\n",
       "      <td>32</td>\n",
       "    </tr>\n",
       "    <tr>\n",
       "      <th>1</th>\n",
       "      <td>1</td>\n",
       "      <td>46</td>\n",
       "      <td>1629</td>\n",
       "      <td>3</td>\n",
       "      <td>3</td>\n",
       "      <td>3</td>\n",
       "      <td>3</td>\n",
       "      <td>2</td>\n",
       "      <td>5</td>\n",
       "      <td>4</td>\n",
       "      <td>4</td>\n",
       "      <td>4</td>\n",
       "      <td>4</td>\n",
       "      <td>4</td>\n",
       "      <td>5</td>\n",
       "      <td>4</td>\n",
       "      <td>3</td>\n",
       "      <td>0</td>\n",
       "      <td>1</td>\n",
       "      <td>1</td>\n",
       "      <td>1</td>\n",
       "      <td>51</td>\n",
       "    </tr>\n",
       "    <tr>\n",
       "      <th>2</th>\n",
       "      <td>1</td>\n",
       "      <td>33</td>\n",
       "      <td>1615</td>\n",
       "      <td>5</td>\n",
       "      <td>5</td>\n",
       "      <td>5</td>\n",
       "      <td>5</td>\n",
       "      <td>4</td>\n",
       "      <td>4</td>\n",
       "      <td>4</td>\n",
       "      <td>4</td>\n",
       "      <td>5</td>\n",
       "      <td>3</td>\n",
       "      <td>3</td>\n",
       "      <td>3</td>\n",
       "      <td>2</td>\n",
       "      <td>4</td>\n",
       "      <td>0</td>\n",
       "      <td>0</td>\n",
       "      <td>1</td>\n",
       "      <td>1</td>\n",
       "      <td>56</td>\n",
       "    </tr>\n",
       "    <tr>\n",
       "      <th>3</th>\n",
       "      <td>0</td>\n",
       "      <td>38</td>\n",
       "      <td>1520</td>\n",
       "      <td>3</td>\n",
       "      <td>3</td>\n",
       "      <td>3</td>\n",
       "      <td>4</td>\n",
       "      <td>2</td>\n",
       "      <td>3</td>\n",
       "      <td>2</td>\n",
       "      <td>2</td>\n",
       "      <td>3</td>\n",
       "      <td>3</td>\n",
       "      <td>4</td>\n",
       "      <td>4</td>\n",
       "      <td>5</td>\n",
       "      <td>2</td>\n",
       "      <td>0</td>\n",
       "      <td>0</td>\n",
       "      <td>1</td>\n",
       "      <td>0</td>\n",
       "      <td>43</td>\n",
       "    </tr>\n",
       "    <tr>\n",
       "      <th>4</th>\n",
       "      <td>0</td>\n",
       "      <td>27</td>\n",
       "      <td>3524</td>\n",
       "      <td>3</td>\n",
       "      <td>3</td>\n",
       "      <td>3</td>\n",
       "      <td>4</td>\n",
       "      <td>2</td>\n",
       "      <td>3</td>\n",
       "      <td>2</td>\n",
       "      <td>2</td>\n",
       "      <td>4</td>\n",
       "      <td>3</td>\n",
       "      <td>5</td>\n",
       "      <td>3</td>\n",
       "      <td>5</td>\n",
       "      <td>2</td>\n",
       "      <td>10</td>\n",
       "      <td>1</td>\n",
       "      <td>1</td>\n",
       "      <td>1</td>\n",
       "      <td>44</td>\n",
       "    </tr>\n",
       "  </tbody>\n",
       "</table>\n",
       "</div>"
      ],
      "text/plain": [
       "   Frequent_Traveler  Age  Points  ...  Business travel  Business  Total_Score\n",
       "0                  0   38    2097  ...                1         0           32\n",
       "1                  1   46    1629  ...                1         1           51\n",
       "2                  1   33    1615  ...                1         1           56\n",
       "3                  0   38    1520  ...                1         0           43\n",
       "4                  0   27    3524  ...                1         1           44\n",
       "\n",
       "[5 rows x 22 columns]"
      ]
     },
     "execution_count": 31,
     "metadata": {
      "tags": []
     },
     "output_type": "execute_result"
    }
   ],
   "source": [
    "guest_test_final.head()"
   ]
  },
  {
   "cell_type": "markdown",
   "metadata": {
    "colab_type": "text",
    "id": "DUPm0PGjp0OE"
   },
   "source": [
    "### Apply Scaler"
   ]
  },
  {
   "cell_type": "code",
   "execution_count": 0,
   "metadata": {
    "colab": {},
    "colab_type": "code",
    "id": "qCQpUFFlp0OF"
   },
   "outputs": [],
   "source": [
    "#Change the scaler\n",
    "guest_test_final = min_max_01.transform(guest_test_final)"
   ]
  },
  {
   "cell_type": "code",
   "execution_count": 0,
   "metadata": {
    "colab": {},
    "colab_type": "code",
    "id": "Ycr6W__0p0OJ"
   },
   "outputs": [],
   "source": [
    "#Change the model\n",
    "pred_model = model1.predict(guest_test_final)"
   ]
  },
  {
   "cell_type": "code",
   "execution_count": 0,
   "metadata": {
    "colab": {},
    "colab_type": "code",
    "id": "myyW0MWfp0ON"
   },
   "outputs": [],
   "source": [
    "df = pd.DataFrame(pred_model, columns = ['Repeater'])\n",
    "df['Repeater'] = round(df['Repeater'],0).astype('int') "
   ]
  },
  {
   "cell_type": "code",
   "execution_count": 0,
   "metadata": {
    "colab": {},
    "colab_type": "code",
    "id": "I0hkZdW8p0OO"
   },
   "outputs": [],
   "source": [
    "df = pd.concat([guest_test_d['Guest_ID'], df], axis=1)"
   ]
  },
  {
   "cell_type": "code",
   "execution_count": 54,
   "metadata": {
    "colab": {
     "base_uri": "https://localhost:8080/",
     "height": 142
    },
    "colab_type": "code",
    "id": "VLHpbuSDp0OR",
    "outputId": "bab51372-f109-4b9d-98aa-ab9398a67773"
   },
   "outputs": [
    {
     "data": {
      "text/html": [
       "<div>\n",
       "<style scoped>\n",
       "    .dataframe tbody tr th:only-of-type {\n",
       "        vertical-align: middle;\n",
       "    }\n",
       "\n",
       "    .dataframe tbody tr th {\n",
       "        vertical-align: top;\n",
       "    }\n",
       "\n",
       "    .dataframe thead th {\n",
       "        text-align: right;\n",
       "    }\n",
       "</style>\n",
       "<table border=\"1\" class=\"dataframe\">\n",
       "  <thead>\n",
       "    <tr style=\"text-align: right;\">\n",
       "      <th></th>\n",
       "      <th>Guest_ID</th>\n",
       "    </tr>\n",
       "    <tr>\n",
       "      <th>Repeater</th>\n",
       "      <th></th>\n",
       "    </tr>\n",
       "  </thead>\n",
       "  <tbody>\n",
       "    <tr>\n",
       "      <th>0</th>\n",
       "      <td>1803</td>\n",
       "    </tr>\n",
       "    <tr>\n",
       "      <th>1</th>\n",
       "      <td>2097</td>\n",
       "    </tr>\n",
       "  </tbody>\n",
       "</table>\n",
       "</div>"
      ],
      "text/plain": [
       "          Guest_ID\n",
       "Repeater          \n",
       "0             1803\n",
       "1             2097"
      ]
     },
     "execution_count": 54,
     "metadata": {
      "tags": []
     },
     "output_type": "execute_result"
    }
   ],
   "source": [
    "df.groupby('Repeater').count()"
   ]
  },
  {
   "cell_type": "code",
   "execution_count": 0,
   "metadata": {
    "colab": {},
    "colab_type": "code",
    "id": "i1rZ4v7Tp0OT"
   },
   "outputs": [],
   "source": [
    "df.to_csv('Submission.csv', index=False)"
   ]
  }
 ],
 "metadata": {
  "colab": {
   "collapsed_sections": [],
   "name": "Assignment01_ML.ipynb",
   "provenance": []
  },
  "kernelspec": {
   "display_name": "Python 3",
   "language": "python",
   "name": "python3"
  },
  "language_info": {
   "codemirror_mode": {
    "name": "ipython",
    "version": 3
   },
   "file_extension": ".py",
   "mimetype": "text/x-python",
   "name": "python",
   "nbconvert_exporter": "python",
   "pygments_lexer": "ipython3",
   "version": "3.7.7"
  }
 },
 "nbformat": 4,
 "nbformat_minor": 1
}
